{
 "cells": [
  {
   "cell_type": "code",
   "execution_count": 1,
   "id": "pleased-colony",
   "metadata": {
    "_cell_guid": "b1076dfc-b9ad-4769-8c92-a6c4dae69d19",
    "_uuid": "8f2839f25d086af736a60e9eeb907d3b93b6e0e5",
    "execution": {
     "iopub.execute_input": "2021-04-22T15:55:31.428543Z",
     "iopub.status.busy": "2021-04-22T15:55:31.427719Z",
     "iopub.status.idle": "2021-04-22T15:55:32.863500Z",
     "shell.execute_reply": "2021-04-22T15:55:32.862394Z"
    },
    "papermill": {
     "duration": 1.465205,
     "end_time": "2021-04-22T15:55:32.863734",
     "exception": false,
     "start_time": "2021-04-22T15:55:31.398529",
     "status": "completed"
    },
    "tags": []
   },
   "outputs": [],
   "source": [
    "# Import\n",
    "\n",
    "import warnings\n",
    "import numpy as np\n",
    "import pandas as pd\n",
    "import seaborn as sns\n",
    "import matplotlib.pyplot as plt\n",
    "from scipy.stats.stats import pearsonr\n",
    "from sklearn.naive_bayes import GaussianNB\n",
    "from sklearn.model_selection import train_test_split\n",
    "from sklearn.metrics import accuracy_score, recall_score, precision_score\n",
    "\n",
    "%matplotlib inline\n",
    "warnings.filterwarnings(\"ignore\")"
   ]
  },
  {
   "cell_type": "code",
   "execution_count": 2,
   "id": "engaging-booking",
   "metadata": {
    "execution": {
     "iopub.execute_input": "2021-04-22T15:55:32.903941Z",
     "iopub.status.busy": "2021-04-22T15:55:32.903120Z",
     "iopub.status.idle": "2021-04-22T15:55:32.906970Z",
     "shell.execute_reply": "2021-04-22T15:55:32.906248Z"
    },
    "papermill": {
     "duration": 0.027597,
     "end_time": "2021-04-22T15:55:32.907140",
     "exception": false,
     "start_time": "2021-04-22T15:55:32.879543",
     "status": "completed"
    },
    "tags": []
   },
   "outputs": [],
   "source": [
    "# Funkcje pomocnicze\n",
    "\n",
    "def cross_validate(estimator, train, validation):\n",
    "    X_train = train[0]\n",
    "    Y_train = train[1]\n",
    "    X_val = validation[0]\n",
    "    Y_val = validation[1]\n",
    "    train_predictions = classifier.predict(X_train)\n",
    "    train_accuracy = accuracy_score(train_predictions, Y_train)\n",
    "    train_recall = recall_score(train_predictions, Y_train)\n",
    "    train_precision = precision_score(train_predictions, Y_train)\n",
    "\n",
    "    val_predictions = classifier.predict(X_val)\n",
    "    val_accuracy = accuracy_score(val_predictions, Y_val)\n",
    "    val_recall = recall_score(val_predictions, Y_val)\n",
    "    val_precision = precision_score(val_predictions, Y_val)\n",
    "\n",
    "    print('Model metrics')\n",
    "    print('Accuracy  Train: %.2f, Validation: %.2f' % (train_accuracy, val_accuracy))\n",
    "    print('Recall    Train: %.2f, Validation: %.2f' % (train_recall, val_recall))\n",
    "    print('Precision Train: %.2f, Validation: %.2f' % (train_precision, val_precision))"
   ]
  },
  {
   "cell_type": "code",
   "execution_count": 3,
   "id": "adaptive-handy",
   "metadata": {
    "execution": {
     "iopub.execute_input": "2021-04-22T15:55:32.940890Z",
     "iopub.status.busy": "2021-04-22T15:55:32.940010Z",
     "iopub.status.idle": "2021-04-22T15:55:32.995237Z",
     "shell.execute_reply": "2021-04-22T15:55:32.995803Z"
    },
    "papermill": {
     "duration": 0.074651,
     "end_time": "2021-04-22T15:55:32.996032",
     "exception": false,
     "start_time": "2021-04-22T15:55:32.921381",
     "status": "completed"
    },
    "tags": []
   },
   "outputs": [],
   "source": [
    "# Wczytanie danych\n",
    "train_raw = pd.read_csv('../input/titanic/train.csv')\n",
    "test_raw = pd.read_csv('../input/titanic/test.csv')\n",
    "test_ids = test_raw['PassengerId'].values\n",
    "\n",
    "# Łączenie danych w jeden zbiór\n",
    "train_raw['train'] = 1\n",
    "test_raw['train'] = 0\n",
    "data = train_raw.append(test_raw, sort=False)"
   ]
  },
  {
   "cell_type": "code",
   "execution_count": 4,
   "id": "short-child",
   "metadata": {
    "execution": {
     "iopub.execute_input": "2021-04-22T15:55:33.030202Z",
     "iopub.status.busy": "2021-04-22T15:55:33.029394Z",
     "iopub.status.idle": "2021-04-22T15:55:33.056485Z",
     "shell.execute_reply": "2021-04-22T15:55:33.056978Z"
    },
    "papermill": {
     "duration": 0.046438,
     "end_time": "2021-04-22T15:55:33.057205",
     "exception": false,
     "start_time": "2021-04-22T15:55:33.010767",
     "status": "completed"
    },
    "tags": []
   },
   "outputs": [
    {
     "data": {
      "text/html": [
       "<div>\n",
       "<style scoped>\n",
       "    .dataframe tbody tr th:only-of-type {\n",
       "        vertical-align: middle;\n",
       "    }\n",
       "\n",
       "    .dataframe tbody tr th {\n",
       "        vertical-align: top;\n",
       "    }\n",
       "\n",
       "    .dataframe thead th {\n",
       "        text-align: right;\n",
       "    }\n",
       "</style>\n",
       "<table border=\"1\" class=\"dataframe\">\n",
       "  <thead>\n",
       "    <tr style=\"text-align: right;\">\n",
       "      <th></th>\n",
       "      <th>PassengerId</th>\n",
       "      <th>Survived</th>\n",
       "      <th>Pclass</th>\n",
       "      <th>Name</th>\n",
       "      <th>Sex</th>\n",
       "      <th>Age</th>\n",
       "      <th>SibSp</th>\n",
       "      <th>Parch</th>\n",
       "      <th>Ticket</th>\n",
       "      <th>Fare</th>\n",
       "      <th>Cabin</th>\n",
       "      <th>Embarked</th>\n",
       "      <th>train</th>\n",
       "    </tr>\n",
       "  </thead>\n",
       "  <tbody>\n",
       "    <tr>\n",
       "      <th>0</th>\n",
       "      <td>1</td>\n",
       "      <td>0.0</td>\n",
       "      <td>3</td>\n",
       "      <td>Braund, Mr. Owen Harris</td>\n",
       "      <td>male</td>\n",
       "      <td>22.0</td>\n",
       "      <td>1</td>\n",
       "      <td>0</td>\n",
       "      <td>A/5 21171</td>\n",
       "      <td>7.2500</td>\n",
       "      <td>NaN</td>\n",
       "      <td>S</td>\n",
       "      <td>1</td>\n",
       "    </tr>\n",
       "    <tr>\n",
       "      <th>1</th>\n",
       "      <td>2</td>\n",
       "      <td>1.0</td>\n",
       "      <td>1</td>\n",
       "      <td>Cumings, Mrs. John Bradley (Florence Briggs Th...</td>\n",
       "      <td>female</td>\n",
       "      <td>38.0</td>\n",
       "      <td>1</td>\n",
       "      <td>0</td>\n",
       "      <td>PC 17599</td>\n",
       "      <td>71.2833</td>\n",
       "      <td>C85</td>\n",
       "      <td>C</td>\n",
       "      <td>1</td>\n",
       "    </tr>\n",
       "    <tr>\n",
       "      <th>2</th>\n",
       "      <td>3</td>\n",
       "      <td>1.0</td>\n",
       "      <td>3</td>\n",
       "      <td>Heikkinen, Miss. Laina</td>\n",
       "      <td>female</td>\n",
       "      <td>26.0</td>\n",
       "      <td>0</td>\n",
       "      <td>0</td>\n",
       "      <td>STON/O2. 3101282</td>\n",
       "      <td>7.9250</td>\n",
       "      <td>NaN</td>\n",
       "      <td>S</td>\n",
       "      <td>1</td>\n",
       "    </tr>\n",
       "  </tbody>\n",
       "</table>\n",
       "</div>"
      ],
      "text/plain": [
       "   PassengerId  Survived  Pclass  \\\n",
       "0            1       0.0       3   \n",
       "1            2       1.0       1   \n",
       "2            3       1.0       3   \n",
       "\n",
       "                                                Name     Sex   Age  SibSp  \\\n",
       "0                            Braund, Mr. Owen Harris    male  22.0      1   \n",
       "1  Cumings, Mrs. John Bradley (Florence Briggs Th...  female  38.0      1   \n",
       "2                             Heikkinen, Miss. Laina  female  26.0      0   \n",
       "\n",
       "   Parch            Ticket     Fare Cabin Embarked  train  \n",
       "0      0         A/5 21171   7.2500   NaN        S      1  \n",
       "1      0          PC 17599  71.2833   C85        C      1  \n",
       "2      0  STON/O2. 3101282   7.9250   NaN        S      1  "
      ]
     },
     "execution_count": 4,
     "metadata": {},
     "output_type": "execute_result"
    }
   ],
   "source": [
    "# Wyświetlenie podglądu danych treningowych\n",
    "data.head(3)"
   ]
  },
  {
   "cell_type": "code",
   "execution_count": 5,
   "id": "balanced-motion",
   "metadata": {
    "execution": {
     "iopub.execute_input": "2021-04-22T15:55:33.096925Z",
     "iopub.status.busy": "2021-04-22T15:55:33.096168Z",
     "iopub.status.idle": "2021-04-22T15:55:33.127389Z",
     "shell.execute_reply": "2021-04-22T15:55:33.127946Z"
    },
    "papermill": {
     "duration": 0.055661,
     "end_time": "2021-04-22T15:55:33.128177",
     "exception": false,
     "start_time": "2021-04-22T15:55:33.072516",
     "status": "completed"
    },
    "tags": []
   },
   "outputs": [],
   "source": [
    "features = ['Age', 'Embarked', 'Fare', 'Parch', 'Pclass', 'Sex', 'SibSp']\n",
    "target = 'Survived'\n",
    "\n",
    "data = data[features + [target] + ['train']]\n",
    "# Zamiana danych kategorycznym na numeryczne.\n",
    "data['Sex'] = data['Sex'].replace([\"female\", \"male\"], [0, 1])\n",
    "data['Embarked'] = data['Embarked'].replace(['S', 'C', 'Q'], [1, 2, 3])\n",
    "data['Age'] = pd.qcut(data['Age'], 10, labels=False)"
   ]
  },
  {
   "cell_type": "code",
   "execution_count": 6,
   "id": "recent-artwork",
   "metadata": {
    "execution": {
     "iopub.execute_input": "2021-04-22T15:55:33.162824Z",
     "iopub.status.busy": "2021-04-22T15:55:33.162110Z",
     "iopub.status.idle": "2021-04-22T15:55:33.180088Z",
     "shell.execute_reply": "2021-04-22T15:55:33.180661Z"
    },
    "papermill": {
     "duration": 0.03714,
     "end_time": "2021-04-22T15:55:33.180874",
     "exception": false,
     "start_time": "2021-04-22T15:55:33.143734",
     "status": "completed"
    },
    "tags": []
   },
   "outputs": [],
   "source": [
    "# Dzielenie danych .\n",
    "train = data.query('train == 1')\n",
    "test = data.query('train == 0')\n",
    "\n",
    "# Wyrzucenie brakujących danych.\n",
    "train.dropna(axis=0, inplace=True)\n",
    "labels = train[target].values"
   ]
  },
  {
   "cell_type": "code",
   "execution_count": 7,
   "id": "upset-milton",
   "metadata": {
    "execution": {
     "iopub.execute_input": "2021-04-22T15:55:33.227333Z",
     "iopub.status.busy": "2021-04-22T15:55:33.226176Z",
     "iopub.status.idle": "2021-04-22T15:55:33.230953Z",
     "shell.execute_reply": "2021-04-22T15:55:33.230383Z"
    },
    "papermill": {
     "duration": 0.034928,
     "end_time": "2021-04-22T15:55:33.231116",
     "exception": false,
     "start_time": "2021-04-22T15:55:33.196188",
     "status": "completed"
    },
    "tags": []
   },
   "outputs": [
    {
     "data": {
      "text/html": [
       "<div>\n",
       "<style scoped>\n",
       "    .dataframe tbody tr th:only-of-type {\n",
       "        vertical-align: middle;\n",
       "    }\n",
       "\n",
       "    .dataframe tbody tr th {\n",
       "        vertical-align: top;\n",
       "    }\n",
       "\n",
       "    .dataframe thead th {\n",
       "        text-align: right;\n",
       "    }\n",
       "</style>\n",
       "<table border=\"1\" class=\"dataframe\">\n",
       "  <thead>\n",
       "    <tr style=\"text-align: right;\">\n",
       "      <th></th>\n",
       "      <th>Age</th>\n",
       "      <th>Embarked</th>\n",
       "      <th>Fare</th>\n",
       "      <th>Parch</th>\n",
       "      <th>Pclass</th>\n",
       "      <th>Sex</th>\n",
       "      <th>SibSp</th>\n",
       "      <th>Survived</th>\n",
       "      <th>train</th>\n",
       "    </tr>\n",
       "  </thead>\n",
       "  <tbody>\n",
       "    <tr>\n",
       "      <th>0</th>\n",
       "      <td>2.0</td>\n",
       "      <td>1.0</td>\n",
       "      <td>7.2500</td>\n",
       "      <td>0</td>\n",
       "      <td>3</td>\n",
       "      <td>1</td>\n",
       "      <td>1</td>\n",
       "      <td>0.0</td>\n",
       "      <td>1</td>\n",
       "    </tr>\n",
       "    <tr>\n",
       "      <th>1</th>\n",
       "      <td>7.0</td>\n",
       "      <td>2.0</td>\n",
       "      <td>71.2833</td>\n",
       "      <td>0</td>\n",
       "      <td>1</td>\n",
       "      <td>0</td>\n",
       "      <td>1</td>\n",
       "      <td>1.0</td>\n",
       "      <td>1</td>\n",
       "    </tr>\n",
       "    <tr>\n",
       "      <th>2</th>\n",
       "      <td>4.0</td>\n",
       "      <td>1.0</td>\n",
       "      <td>7.9250</td>\n",
       "      <td>0</td>\n",
       "      <td>3</td>\n",
       "      <td>0</td>\n",
       "      <td>0</td>\n",
       "      <td>1.0</td>\n",
       "      <td>1</td>\n",
       "    </tr>\n",
       "  </tbody>\n",
       "</table>\n",
       "</div>"
      ],
      "text/plain": [
       "   Age  Embarked     Fare  Parch  Pclass  Sex  SibSp  Survived  train\n",
       "0  2.0       1.0   7.2500      0       3    1      1       0.0      1\n",
       "1  7.0       2.0  71.2833      0       1    0      1       1.0      1\n",
       "2  4.0       1.0   7.9250      0       3    0      0       1.0      1"
      ]
     },
     "execution_count": 7,
     "metadata": {},
     "output_type": "execute_result"
    }
   ],
   "source": [
    "# Ponowne wyświetlenie podglądu danych treningowych\n",
    "train.head(3)"
   ]
  },
  {
   "cell_type": "code",
   "execution_count": 8,
   "id": "radio-protest",
   "metadata": {
    "execution": {
     "iopub.execute_input": "2021-04-22T15:55:33.278910Z",
     "iopub.status.busy": "2021-04-22T15:55:33.278161Z",
     "iopub.status.idle": "2021-04-22T15:55:33.952839Z",
     "shell.execute_reply": "2021-04-22T15:55:33.953381Z"
    },
    "papermill": {
     "duration": 0.704535,
     "end_time": "2021-04-22T15:55:33.953584",
     "exception": false,
     "start_time": "2021-04-22T15:55:33.249049",
     "status": "completed"
    },
    "tags": []
   },
   "outputs": [
    {
     "data": {
      "image/png": "[encoded data removed]",
      "text/plain": [
       "<Figure size 720x720 with 2 Axes>"
      ]
     },
     "metadata": {
      "needs_background": "light"
     },
     "output_type": "display_data"
    }
   ],
   "source": [
    "columns = train[features + [target]].columns.tolist()\n",
    "nColumns = len(columns)\n",
    "result = pd.DataFrame(np.zeros((nColumns, nColumns)), columns=columns)\n",
    "\n",
    "# Użycie korelacji Pearsona  na każdą parę.\n",
    "for col_a in range(nColumns):\n",
    "    for col_b in range(nColumns):\n",
    "        result.iloc[[col_a], [col_b]] = pearsonr(train.loc[:, columns[col_a]], train.loc[:,  columns[col_b]])[0]\n",
    "        \n",
    "fig, ax = plt.subplots(figsize=(10,10))\n",
    "ax = sns.heatmap(result, yticklabels=columns, vmin=-1, vmax=1, annot=True, fmt='.2f', linewidths=.2)\n",
    "ax.set_title('PCC - Pearson correlation coefficient')\n",
    "plt.show()"
   ]
  },
  {
   "cell_type": "code",
   "execution_count": 9,
   "id": "widespread-turning",
   "metadata": {
    "execution": {
     "iopub.execute_input": "2021-04-22T15:55:34.012828Z",
     "iopub.status.busy": "2021-04-22T15:55:34.009027Z",
     "iopub.status.idle": "2021-04-22T15:55:34.909512Z",
     "shell.execute_reply": "2021-04-22T15:55:34.910039Z"
    },
    "papermill": {
     "duration": 0.938168,
     "end_time": "2021-04-22T15:55:34.910254",
     "exception": false,
     "start_time": "2021-04-22T15:55:33.972086",
     "status": "completed"
    },
    "tags": []
   },
   "outputs": [
    {
     "data": {
      "image/png": "[encoded data removed]",
      "text/plain": [
       "<Figure size 432x288 with 1 Axes>"
      ]
     },
     "metadata": {
      "needs_background": "light"
     },
     "output_type": "display_data"
    },
    {
     "data": {
      "image/png": "[encoded data removed]",
      "text/plain": [
       "<Figure size 432x288 with 1 Axes>"
      ]
     },
     "metadata": {
      "needs_background": "light"
     },
     "output_type": "display_data"
    },
    {
     "data": {
      "image/png": "[encoded data removed]",
      "text/plain": [
       "<Figure size 432x288 with 1 Axes>"
      ]
     },
     "metadata": {
      "needs_background": "light"
     },
     "output_type": "display_data"
    },
    {
     "data": {
      "image/png": "[encoded data removed]",
      "text/plain": [
       "<Figure size 432x288 with 1 Axes>"
      ]
     },
     "metadata": {
      "needs_background": "light"
     },
     "output_type": "display_data"
    }
   ],
   "source": [
    "# Rozkład poszczególnych cech\n",
    "continuous_numeric_features = ['Age', 'Fare', 'Parch', 'SibSp']\n",
    "for feature in continuous_numeric_features:\n",
    "    sns.distplot(train[feature])\n",
    "    plt.show()"
   ]
  },
  {
   "cell_type": "code",
   "execution_count": 10,
   "id": "foster-behalf",
   "metadata": {
    "execution": {
     "iopub.execute_input": "2021-04-22T15:55:34.958659Z",
     "iopub.status.busy": "2021-04-22T15:55:34.957952Z",
     "iopub.status.idle": "2021-04-22T15:55:34.966942Z",
     "shell.execute_reply": "2021-04-22T15:55:34.966338Z"
    },
    "papermill": {
     "duration": 0.034819,
     "end_time": "2021-04-22T15:55:34.967116",
     "exception": false,
     "start_time": "2021-04-22T15:55:34.932297",
     "status": "completed"
    },
    "tags": []
   },
   "outputs": [],
   "source": [
    "train.drop(['train', target, 'Pclass'], axis=1, inplace=True)\n",
    "test.drop(['train', target, 'Pclass'], axis=1, inplace=True)"
   ]
  },
  {
   "cell_type": "code",
   "execution_count": 11,
   "id": "experienced-appraisal",
   "metadata": {
    "execution": {
     "iopub.execute_input": "2021-04-22T15:55:35.017276Z",
     "iopub.status.busy": "2021-04-22T15:55:35.016458Z",
     "iopub.status.idle": "2021-04-22T15:55:35.021667Z",
     "shell.execute_reply": "2021-04-22T15:55:35.022243Z"
    },
    "papermill": {
     "duration": 0.033301,
     "end_time": "2021-04-22T15:55:35.022458",
     "exception": false,
     "start_time": "2021-04-22T15:55:34.989157",
     "status": "completed"
    },
    "tags": []
   },
   "outputs": [],
   "source": [
    "# Podział danych na treningowe i walidacyjne\n",
    "X_train, X_val, Y_train, Y_val = train_test_split(train, labels, test_size=0.2, random_state=1)"
   ]
  },
  {
   "cell_type": "code",
   "execution_count": 12,
   "id": "wound-delicious",
   "metadata": {
    "execution": {
     "iopub.execute_input": "2021-04-22T15:55:35.070412Z",
     "iopub.status.busy": "2021-04-22T15:55:35.069710Z",
     "iopub.status.idle": "2021-04-22T15:55:35.083201Z",
     "shell.execute_reply": "2021-04-22T15:55:35.083908Z"
    },
    "papermill": {
     "duration": 0.039619,
     "end_time": "2021-04-22T15:55:35.084153",
     "exception": false,
     "start_time": "2021-04-22T15:55:35.044534",
     "status": "completed"
    },
    "tags": []
   },
   "outputs": [
    {
     "data": {
      "text/html": [
       "<div>\n",
       "<style scoped>\n",
       "    .dataframe tbody tr th:only-of-type {\n",
       "        vertical-align: middle;\n",
       "    }\n",
       "\n",
       "    .dataframe tbody tr th {\n",
       "        vertical-align: top;\n",
       "    }\n",
       "\n",
       "    .dataframe thead th {\n",
       "        text-align: right;\n",
       "    }\n",
       "</style>\n",
       "<table border=\"1\" class=\"dataframe\">\n",
       "  <thead>\n",
       "    <tr style=\"text-align: right;\">\n",
       "      <th></th>\n",
       "      <th>Age</th>\n",
       "      <th>Embarked</th>\n",
       "      <th>Fare</th>\n",
       "      <th>Parch</th>\n",
       "      <th>Sex</th>\n",
       "      <th>SibSp</th>\n",
       "    </tr>\n",
       "  </thead>\n",
       "  <tbody>\n",
       "    <tr>\n",
       "      <th>830</th>\n",
       "      <td>1.0</td>\n",
       "      <td>2.0</td>\n",
       "      <td>14.4542</td>\n",
       "      <td>0</td>\n",
       "      <td>0</td>\n",
       "      <td>1</td>\n",
       "    </tr>\n",
       "    <tr>\n",
       "      <th>566</th>\n",
       "      <td>1.0</td>\n",
       "      <td>1.0</td>\n",
       "      <td>7.8958</td>\n",
       "      <td>0</td>\n",
       "      <td>1</td>\n",
       "      <td>0</td>\n",
       "    </tr>\n",
       "    <tr>\n",
       "      <th>149</th>\n",
       "      <td>7.0</td>\n",
       "      <td>1.0</td>\n",
       "      <td>13.0000</td>\n",
       "      <td>0</td>\n",
       "      <td>1</td>\n",
       "      <td>0</td>\n",
       "    </tr>\n",
       "  </tbody>\n",
       "</table>\n",
       "</div>"
      ],
      "text/plain": [
       "     Age  Embarked     Fare  Parch  Sex  SibSp\n",
       "830  1.0       2.0  14.4542      0    0      1\n",
       "566  1.0       1.0   7.8958      0    1      0\n",
       "149  7.0       1.0  13.0000      0    1      0"
      ]
     },
     "execution_count": 12,
     "metadata": {},
     "output_type": "execute_result"
    }
   ],
   "source": [
    "# Ponowne wyświetlenie podglądu danych treningowych\n",
    "X_train.head(3)"
   ]
  },
  {
   "cell_type": "code",
   "execution_count": 13,
   "id": "technological-values",
   "metadata": {
    "execution": {
     "iopub.execute_input": "2021-04-22T15:55:35.135816Z",
     "iopub.status.busy": "2021-04-22T15:55:35.135017Z",
     "iopub.status.idle": "2021-04-22T15:55:35.143396Z",
     "shell.execute_reply": "2021-04-22T15:55:35.144022Z"
    },
    "papermill": {
     "duration": 0.036726,
     "end_time": "2021-04-22T15:55:35.144245",
     "exception": false,
     "start_time": "2021-04-22T15:55:35.107519",
     "status": "completed"
    },
    "tags": []
   },
   "outputs": [],
   "source": [
    "# Ponowny podział danych treningowych\n",
    "X_train1, X_train2, Y_train1, Y_train2 = train_test_split(X_train, Y_train, test_size=0.3, random_state=12)"
   ]
  },
  {
   "cell_type": "code",
   "execution_count": 14,
   "id": "specialized-vitamin",
   "metadata": {
    "execution": {
     "iopub.execute_input": "2021-04-22T15:55:35.200728Z",
     "iopub.status.busy": "2021-04-22T15:55:35.199952Z",
     "iopub.status.idle": "2021-04-22T15:55:35.217311Z",
     "shell.execute_reply": "2021-04-22T15:55:35.218738Z"
    },
    "papermill": {
     "duration": 0.051809,
     "end_time": "2021-04-22T15:55:35.219133",
     "exception": false,
     "start_time": "2021-04-22T15:55:35.167324",
     "status": "completed"
    },
    "tags": []
   },
   "outputs": [
    {
     "name": "stdout",
     "output_type": "stream",
     "text": [
      "Metrics with only 30% of train data\n",
      "Model metrics\n",
      "Accuracy  Train: 0.79, Validation: 0.76\n",
      "Recall    Train: 0.75, Validation: 0.71\n",
      "Precision Train: 0.71, Validation: 0.71\n"
     ]
    }
   ],
   "source": [
    "# Dopasowywanie pierwszej części danych \n",
    "classifier = GaussianNB()\n",
    "classifier.fit(X_train2, Y_train2)\n",
    "print('Metrics with only 30% of train data')\n",
    "cross_validate(classifier, (X_train, Y_train), (X_val, Y_val))"
   ]
  },
  {
   "cell_type": "code",
   "execution_count": 15,
   "id": "sitting-baltimore",
   "metadata": {
    "execution": {
     "iopub.execute_input": "2021-04-22T15:55:35.275723Z",
     "iopub.status.busy": "2021-04-22T15:55:35.274883Z",
     "iopub.status.idle": "2021-04-22T15:55:35.292841Z",
     "shell.execute_reply": "2021-04-22T15:55:35.292074Z"
    },
    "papermill": {
     "duration": 0.04973,
     "end_time": "2021-04-22T15:55:35.293006",
     "exception": false,
     "start_time": "2021-04-22T15:55:35.243276",
     "status": "completed"
    },
    "tags": []
   },
   "outputs": [
    {
     "name": "stdout",
     "output_type": "stream",
     "text": [
      "Metrics with the remaining 70% of train data\n",
      "Model metrics\n",
      "Accuracy  Train: 0.80, Validation: 0.76\n",
      "Recall    Train: 0.78, Validation: 0.70\n",
      "Precision Train: 0.69, Validation: 0.69\n"
     ]
    }
   ],
   "source": [
    "# Dopasowywanie kolejnej części danych \n",
    "classifier.partial_fit(X_train1, Y_train1)\n",
    "print('Metrics with the remaining 70% of train data')\n",
    "cross_validate(classifier, (X_train, Y_train), (X_val, Y_val))"
   ]
  },
  {
   "cell_type": "code",
   "execution_count": 16,
   "id": "concrete-locking",
   "metadata": {
    "execution": {
     "iopub.execute_input": "2021-04-22T15:55:35.349200Z",
     "iopub.status.busy": "2021-04-22T15:55:35.348360Z",
     "iopub.status.idle": "2021-04-22T15:55:35.351346Z",
     "shell.execute_reply": "2021-04-22T15:55:35.351885Z"
    },
    "papermill": {
     "duration": 0.033844,
     "end_time": "2021-04-22T15:55:35.352099",
     "exception": false,
     "start_time": "2021-04-22T15:55:35.318255",
     "status": "completed"
    },
    "tags": []
   },
   "outputs": [
    {
     "name": "stdout",
     "output_type": "stream",
     "text": [
      "Probability of each class\n",
      "Survive = 0: 0.60\n",
      "Survive = 1: 0.40\n"
     ]
    }
   ],
   "source": [
    "# Prawdopodobieństwo przeżycia\n",
    "print('Probability of each class')\n",
    "print('Survive = 0: %.2f' % classifier.class_prior_[0])\n",
    "print('Survive = 1: %.2f' % classifier.class_prior_[1])"
   ]
  },
  {
   "cell_type": "code",
   "execution_count": 17,
   "id": "greek-discrimination",
   "metadata": {
    "execution": {
     "iopub.execute_input": "2021-04-22T15:55:35.404354Z",
     "iopub.status.busy": "2021-04-22T15:55:35.403490Z",
     "iopub.status.idle": "2021-04-22T15:55:35.411627Z",
     "shell.execute_reply": "2021-04-22T15:55:35.411028Z"
    },
    "papermill": {
     "duration": 0.035648,
     "end_time": "2021-04-22T15:55:35.411816",
     "exception": false,
     "start_time": "2021-04-22T15:55:35.376168",
     "status": "completed"
    },
    "tags": []
   },
   "outputs": [
    {
     "name": "stdout",
     "output_type": "stream",
     "text": [
      "Mean of each feature per class\n",
      "               Age         Embarked   Fare         Parch       Sex         SibSp\n",
      "Survive = 0: [ 4.5339233   1.23893805 22.97357316  0.37463127  0.86135693  0.5280236 ]\n",
      "Survive = 1: [ 4.27391304  1.33478261 53.52155957  0.52608696  0.33043478  0.49130435]\n"
     ]
    }
   ],
   "source": [
    "# Własności cech\n",
    "print('Mean of each feature per class')\n",
    "print('               Age         Embarked   Fare         Parch       Sex         SibSp')\n",
    "print('Survive = 0: %s' % classifier.theta_[0])\n",
    "print('Survive = 1: %s' % classifier.theta_[1])"
   ]
  },
  {
   "cell_type": "code",
   "execution_count": 18,
   "id": "theoretical-accountability",
   "metadata": {
    "execution": {
     "iopub.execute_input": "2021-04-22T15:55:35.469406Z",
     "iopub.status.busy": "2021-04-22T15:55:35.468527Z",
     "iopub.status.idle": "2021-04-22T15:55:35.473158Z",
     "shell.execute_reply": "2021-04-22T15:55:35.472463Z"
    },
    "papermill": {
     "duration": 0.036213,
     "end_time": "2021-04-22T15:55:35.473332",
     "exception": false,
     "start_time": "2021-04-22T15:55:35.437119",
     "status": "completed"
    },
    "tags": []
   },
   "outputs": [
    {
     "name": "stdout",
     "output_type": "stream",
     "text": [
      "Variance of each feature per class\n",
      "Survive = 0: [8.32554825e+00 2.88044224e-01 8.60096730e+02 8.36055467e-01\n",
      " 1.19424042e-01 1.11647419e+00]\n",
      "Survive = 1: [8.45106148e+00 2.74880003e-01 5.28959488e+03 6.75409304e-01\n",
      " 2.21250514e-01 4.41231610e-01]\n"
     ]
    }
   ],
   "source": [
    "print('Variance of each feature per class')\n",
    "print('Survive = 0: %s' % classifier.sigma_[0])\n",
    "print('Survive = 1: %s' % classifier.sigma_[1])"
   ]
  },
  {
   "cell_type": "code",
   "execution_count": 19,
   "id": "wanted-quilt",
   "metadata": {
    "execution": {
     "iopub.execute_input": "2021-04-22T15:55:35.541269Z",
     "iopub.status.busy": "2021-04-22T15:55:35.540496Z",
     "iopub.status.idle": "2021-04-22T15:55:35.556730Z",
     "shell.execute_reply": "2021-04-22T15:55:35.556003Z"
    },
    "papermill": {
     "duration": 0.057425,
     "end_time": "2021-04-22T15:55:35.556907",
     "exception": false,
     "start_time": "2021-04-22T15:55:35.499482",
     "status": "completed"
    },
    "tags": []
   },
   "outputs": [
    {
     "data": {
      "text/html": [
       "<div>\n",
       "<style scoped>\n",
       "    .dataframe tbody tr th:only-of-type {\n",
       "        vertical-align: middle;\n",
       "    }\n",
       "\n",
       "    .dataframe tbody tr th {\n",
       "        vertical-align: top;\n",
       "    }\n",
       "\n",
       "    .dataframe thead th {\n",
       "        text-align: right;\n",
       "    }\n",
       "</style>\n",
       "<table border=\"1\" class=\"dataframe\">\n",
       "  <thead>\n",
       "    <tr style=\"text-align: right;\">\n",
       "      <th></th>\n",
       "      <th>PassengerId</th>\n",
       "      <th>Survived</th>\n",
       "    </tr>\n",
       "  </thead>\n",
       "  <tbody>\n",
       "    <tr>\n",
       "      <th>0</th>\n",
       "      <td>892</td>\n",
       "      <td>0</td>\n",
       "    </tr>\n",
       "    <tr>\n",
       "      <th>1</th>\n",
       "      <td>893</td>\n",
       "      <td>1</td>\n",
       "    </tr>\n",
       "    <tr>\n",
       "      <th>2</th>\n",
       "      <td>894</td>\n",
       "      <td>0</td>\n",
       "    </tr>\n",
       "    <tr>\n",
       "      <th>3</th>\n",
       "      <td>895</td>\n",
       "      <td>0</td>\n",
       "    </tr>\n",
       "    <tr>\n",
       "      <th>4</th>\n",
       "      <td>896</td>\n",
       "      <td>1</td>\n",
       "    </tr>\n",
       "    <tr>\n",
       "      <th>5</th>\n",
       "      <td>897</td>\n",
       "      <td>0</td>\n",
       "    </tr>\n",
       "    <tr>\n",
       "      <th>6</th>\n",
       "      <td>898</td>\n",
       "      <td>1</td>\n",
       "    </tr>\n",
       "    <tr>\n",
       "      <th>7</th>\n",
       "      <td>899</td>\n",
       "      <td>0</td>\n",
       "    </tr>\n",
       "    <tr>\n",
       "      <th>8</th>\n",
       "      <td>900</td>\n",
       "      <td>1</td>\n",
       "    </tr>\n",
       "    <tr>\n",
       "      <th>9</th>\n",
       "      <td>901</td>\n",
       "      <td>0</td>\n",
       "    </tr>\n",
       "  </tbody>\n",
       "</table>\n",
       "</div>"
      ],
      "text/plain": [
       "   PassengerId  Survived\n",
       "0          892         0\n",
       "1          893         1\n",
       "2          894         0\n",
       "3          895         0\n",
       "4          896         1\n",
       "5          897         0\n",
       "6          898         1\n",
       "7          899         0\n",
       "8          900         1\n",
       "9          901         0"
      ]
     },
     "execution_count": 19,
     "metadata": {},
     "output_type": "execute_result"
    }
   ],
   "source": [
    "# Uzupełnienie brakujących danych\n",
    "test.fillna(test.mean(), inplace=True)\n",
    "test_predictions = classifier.predict(test)\n",
    "submission = pd.DataFrame({'PassengerId': test_ids})\n",
    "submission['Survived'] = test_predictions.astype('int')\n",
    "submission.to_csv('submission.csv', index=False)\n",
    "submission.head(10)"
   ]
  }
 ],
 "metadata": {
  "kernelspec": {
   "display_name": "Python 3",
   "language": "python",
   "name": "python3"
  },
  "language_info": {
   "codemirror_mode": {
    "name": "ipython",
    "version": 3
   },
   "file_extension": ".py",
   "mimetype": "text/x-python",
   "name": "python",
   "nbconvert_exporter": "python",
   "pygments_lexer": "ipython3",
   "version": "3.7.9"
  },
  "papermill": {
   "default_parameters": {},
   "duration": 12.640507,
   "end_time": "2021-04-22T15:55:36.496993",
   "environment_variables": {},
   "exception": null,
   "input_path": "__notebook__.ipynb",
   "output_path": "__notebook__.ipynb",
   "parameters": {},
   "start_time": "2021-04-22T15:55:23.856486",
   "version": "2.3.2"
  }
 },
 "nbformat": 4,
 "nbformat_minor": 5
}
