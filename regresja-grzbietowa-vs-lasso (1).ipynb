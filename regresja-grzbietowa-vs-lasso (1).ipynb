{
 "cells": [
  {
   "cell_type": "markdown",
   "id": "downtown-pendant",
   "metadata": {
    "papermill": {
     "duration": 0.00969,
     "end_time": "2021-05-20T18:15:11.372955",
     "exception": false,
     "start_time": "2021-05-20T18:15:11.363265",
     "status": "completed"
    },
    "tags": []
   },
   "source": [
    "### Import"
   ]
  },
  {
   "cell_type": "code",
   "execution_count": 1,
   "id": "liquid-substitute",
   "metadata": {
    "_cell_guid": "b1076dfc-b9ad-4769-8c92-a6c4dae69d19",
    "_uuid": "8f2839f25d086af736a60e9eeb907d3b93b6e0e5",
    "execution": {
     "iopub.execute_input": "2021-05-20T18:15:11.394350Z",
     "iopub.status.busy": "2021-05-20T18:15:11.393348Z",
     "iopub.status.idle": "2021-05-20T18:15:12.558771Z",
     "shell.execute_reply": "2021-05-20T18:15:12.559242Z",
     "shell.execute_reply.started": "2021-05-20T18:14:30.849271Z"
    },
    "papermill": {
     "duration": 1.177171,
     "end_time": "2021-05-20T18:15:12.559533",
     "exception": false,
     "start_time": "2021-05-20T18:15:11.382362",
     "status": "completed"
    },
    "tags": []
   },
   "outputs": [],
   "source": [
    "# Import bibliotek\n",
    "import pandas as pd\n",
    "import numpy as np\n",
    "from sklearn import metrics\n",
    "from sklearn import linear_model\n",
    "from sklearn.pipeline import Pipeline\n",
    "from sklearn.preprocessing import PolynomialFeatures\n",
    "from sklearn.model_selection import GridSearchCV, train_test_split\n",
    "from sklearn.datasets import load_boston\n",
    "from sklearn.preprocessing import StandardScaler\n",
    "from sklearn.linear_model import Ridge\n",
    "import matplotlib.pyplot as plt\n",
    "from sklearn.linear_model import RidgeCV\n",
    "from sklearn.linear_model import Lasso\n",
    "from sklearn.linear_model import LassoCV"
   ]
  },
  {
   "cell_type": "code",
   "execution_count": 2,
   "id": "figured-ending",
   "metadata": {
    "execution": {
     "iopub.execute_input": "2021-05-20T18:15:12.579202Z",
     "iopub.status.busy": "2021-05-20T18:15:12.578590Z",
     "iopub.status.idle": "2021-05-20T18:15:12.623835Z",
     "shell.execute_reply": "2021-05-20T18:15:12.623340Z",
     "shell.execute_reply.started": "2021-05-20T18:11:56.034838Z"
    },
    "papermill": {
     "duration": 0.056073,
     "end_time": "2021-05-20T18:15:12.623988",
     "exception": false,
     "start_time": "2021-05-20T18:15:12.567915",
     "status": "completed"
    },
    "tags": []
   },
   "outputs": [
    {
     "data": {
      "text/html": [
       "<div>\n",
       "<style scoped>\n",
       "    .dataframe tbody tr th:only-of-type {\n",
       "        vertical-align: middle;\n",
       "    }\n",
       "\n",
       "    .dataframe tbody tr th {\n",
       "        vertical-align: top;\n",
       "    }\n",
       "\n",
       "    .dataframe thead th {\n",
       "        text-align: right;\n",
       "    }\n",
       "</style>\n",
       "<table border=\"1\" class=\"dataframe\">\n",
       "  <thead>\n",
       "    <tr style=\"text-align: right;\">\n",
       "      <th></th>\n",
       "      <th>CRIM</th>\n",
       "      <th>ZN</th>\n",
       "      <th>INDUS</th>\n",
       "      <th>CHAS</th>\n",
       "      <th>NOX</th>\n",
       "      <th>RM</th>\n",
       "      <th>AGE</th>\n",
       "      <th>DIS</th>\n",
       "      <th>RAD</th>\n",
       "      <th>TAX</th>\n",
       "      <th>PTRATIO</th>\n",
       "      <th>B</th>\n",
       "      <th>LSTAT</th>\n",
       "    </tr>\n",
       "  </thead>\n",
       "  <tbody>\n",
       "    <tr>\n",
       "      <th>0</th>\n",
       "      <td>0.00632</td>\n",
       "      <td>18.0</td>\n",
       "      <td>2.31</td>\n",
       "      <td>0.0</td>\n",
       "      <td>0.538</td>\n",
       "      <td>6.575</td>\n",
       "      <td>65.2</td>\n",
       "      <td>4.0900</td>\n",
       "      <td>1.0</td>\n",
       "      <td>296.0</td>\n",
       "      <td>15.3</td>\n",
       "      <td>396.90</td>\n",
       "      <td>4.98</td>\n",
       "    </tr>\n",
       "    <tr>\n",
       "      <th>1</th>\n",
       "      <td>0.02731</td>\n",
       "      <td>0.0</td>\n",
       "      <td>7.07</td>\n",
       "      <td>0.0</td>\n",
       "      <td>0.469</td>\n",
       "      <td>6.421</td>\n",
       "      <td>78.9</td>\n",
       "      <td>4.9671</td>\n",
       "      <td>2.0</td>\n",
       "      <td>242.0</td>\n",
       "      <td>17.8</td>\n",
       "      <td>396.90</td>\n",
       "      <td>9.14</td>\n",
       "    </tr>\n",
       "    <tr>\n",
       "      <th>2</th>\n",
       "      <td>0.02729</td>\n",
       "      <td>0.0</td>\n",
       "      <td>7.07</td>\n",
       "      <td>0.0</td>\n",
       "      <td>0.469</td>\n",
       "      <td>7.185</td>\n",
       "      <td>61.1</td>\n",
       "      <td>4.9671</td>\n",
       "      <td>2.0</td>\n",
       "      <td>242.0</td>\n",
       "      <td>17.8</td>\n",
       "      <td>392.83</td>\n",
       "      <td>4.03</td>\n",
       "    </tr>\n",
       "    <tr>\n",
       "      <th>3</th>\n",
       "      <td>0.03237</td>\n",
       "      <td>0.0</td>\n",
       "      <td>2.18</td>\n",
       "      <td>0.0</td>\n",
       "      <td>0.458</td>\n",
       "      <td>6.998</td>\n",
       "      <td>45.8</td>\n",
       "      <td>6.0622</td>\n",
       "      <td>3.0</td>\n",
       "      <td>222.0</td>\n",
       "      <td>18.7</td>\n",
       "      <td>394.63</td>\n",
       "      <td>2.94</td>\n",
       "    </tr>\n",
       "    <tr>\n",
       "      <th>4</th>\n",
       "      <td>0.06905</td>\n",
       "      <td>0.0</td>\n",
       "      <td>2.18</td>\n",
       "      <td>0.0</td>\n",
       "      <td>0.458</td>\n",
       "      <td>7.147</td>\n",
       "      <td>54.2</td>\n",
       "      <td>6.0622</td>\n",
       "      <td>3.0</td>\n",
       "      <td>222.0</td>\n",
       "      <td>18.7</td>\n",
       "      <td>396.90</td>\n",
       "      <td>5.33</td>\n",
       "    </tr>\n",
       "  </tbody>\n",
       "</table>\n",
       "</div>"
      ],
      "text/plain": [
       "      CRIM    ZN  INDUS  CHAS    NOX     RM   AGE     DIS  RAD    TAX  \\\n",
       "0  0.00632  18.0   2.31   0.0  0.538  6.575  65.2  4.0900  1.0  296.0   \n",
       "1  0.02731   0.0   7.07   0.0  0.469  6.421  78.9  4.9671  2.0  242.0   \n",
       "2  0.02729   0.0   7.07   0.0  0.469  7.185  61.1  4.9671  2.0  242.0   \n",
       "3  0.03237   0.0   2.18   0.0  0.458  6.998  45.8  6.0622  3.0  222.0   \n",
       "4  0.06905   0.0   2.18   0.0  0.458  7.147  54.2  6.0622  3.0  222.0   \n",
       "\n",
       "   PTRATIO       B  LSTAT  \n",
       "0     15.3  396.90   4.98  \n",
       "1     17.8  396.90   9.14  \n",
       "2     17.8  392.83   4.03  \n",
       "3     18.7  394.63   2.94  \n",
       "4     18.7  396.90   5.33  "
      ]
     },
     "execution_count": 2,
     "metadata": {},
     "output_type": "execute_result"
    }
   ],
   "source": [
    "# Import danych\n",
    "feature_num = 20\n",
    "boston = load_boston()\n",
    "X = boston.data[:, :feature_num]\n",
    "y = boston.target\n",
    "features = boston.feature_names[:feature_num]\n",
    "pd.DataFrame(X, columns = features).head()"
   ]
  },
  {
   "cell_type": "markdown",
   "id": "english-grenada",
   "metadata": {
    "papermill": {
     "duration": 0.008661,
     "end_time": "2021-05-20T18:15:12.641708",
     "exception": false,
     "start_time": "2021-05-20T18:15:12.633047",
     "status": "completed"
    },
    "tags": []
   },
   "source": [
    "### Przygotowanie danych"
   ]
  },
  {
   "cell_type": "markdown",
   "id": "handy-investigator",
   "metadata": {
    "papermill": {
     "duration": 0.008595,
     "end_time": "2021-05-20T18:15:12.659124",
     "exception": false,
     "start_time": "2021-05-20T18:15:12.650529",
     "status": "completed"
    },
    "tags": []
   },
   "source": [
    "Columns:\n",
    "\n",
    "CRIM: Per capita crime rate by town\n",
    "\n",
    "ZN: Proportion of residential land zoned for lots over 25,000 sq. ft\n",
    "\n",
    "INDUS: Proportion of non-retail business acres per town\n",
    "\n",
    "CHAS : Charles River dummy variable (1 if tract bounds river; 0 otherwise)\n",
    "\n",
    "NOX: Nitric oxide concentration (parts per 10 million)\n",
    "\n",
    "RM: Average number of rooms per dwelling\n",
    "\n",
    "AGE: Proportion of owner-occupied units built prior to 1940\n",
    "\n",
    "DIS: Weighted distances to five Boston employment centers\n",
    "\n",
    "RAD: Index of accessibility to radial highways\n",
    "\n",
    "PTRATIO: Pupil-teacher ratio by town\n",
    "\n",
    "B: 1000(Bk — 0.63)², where Bk is the proportion of [people of African American descent] by town\n",
    "\n",
    "LSTAT: Percentage of lower status of the population\n",
    "\n",
    "MEDV: Median value of owner-occupied homes in $1000s"
   ]
  },
  {
   "cell_type": "code",
   "execution_count": 3,
   "id": "cheap-speech",
   "metadata": {
    "execution": {
     "iopub.execute_input": "2021-05-20T18:15:12.682580Z",
     "iopub.status.busy": "2021-05-20T18:15:12.682010Z",
     "iopub.status.idle": "2021-05-20T18:15:12.686300Z",
     "shell.execute_reply": "2021-05-20T18:15:12.685816Z",
     "shell.execute_reply.started": "2021-05-20T18:12:00.357899Z"
    },
    "papermill": {
     "duration": 0.018473,
     "end_time": "2021-05-20T18:15:12.686426",
     "exception": false,
     "start_time": "2021-05-20T18:15:12.667953",
     "status": "completed"
    },
    "tags": []
   },
   "outputs": [],
   "source": [
    "# Podział danych na treningowe i testowe\n",
    "X_train, X_test, y_train, y_test = train_test_split(X, y, random_state = 1)\n",
    "std = StandardScaler()\n",
    "X_train_std = std.fit_transform(X_train)\n",
    "X_test_std = std.transform(X_test)"
   ]
  },
  {
   "cell_type": "code",
   "execution_count": 4,
   "id": "designed-lyric",
   "metadata": {
    "execution": {
     "iopub.execute_input": "2021-05-20T18:15:12.707508Z",
     "iopub.status.busy": "2021-05-20T18:15:12.706938Z",
     "iopub.status.idle": "2021-05-20T18:15:12.713567Z",
     "shell.execute_reply": "2021-05-20T18:15:12.713084Z",
     "shell.execute_reply.started": "2021-05-20T18:12:02.147825Z"
    },
    "papermill": {
     "duration": 0.0184,
     "end_time": "2021-05-20T18:15:12.713705",
     "exception": false,
     "start_time": "2021-05-20T18:15:12.695305",
     "status": "completed"
    },
    "tags": []
   },
   "outputs": [],
   "source": [
    "def test(models,  iterations = 1000):\n",
    "    results = {}\n",
    "    for i in models:\n",
    "        r2_train = []\n",
    "        r2_test = []\n",
    "        for j in range(iterations):\n",
    "            X_train, X_test, y_train, y_test = train_test_split(X, \n",
    "                                                                y, \n",
    "                                                                test_size= 0.2)\n",
    "            r2_test.append(metrics.r2_score(y_test,\n",
    "                                            models[i].fit(X_train, \n",
    "                                                         y_train).predict(X_test)))\n",
    "            r2_train.append(metrics.r2_score(y_train, \n",
    "                                             models[i].fit(X_train, \n",
    "                                                          y_train).predict(X_train)))\n",
    "        results[i] = [np.mean(r2_train), np.mean(r2_test)]\n",
    "    return pd.DataFrame(results)"
   ]
  },
  {
   "cell_type": "markdown",
   "id": "twenty-indie",
   "metadata": {
    "papermill": {
     "duration": 0.008647,
     "end_time": "2021-05-20T18:15:12.731212",
     "exception": false,
     "start_time": "2021-05-20T18:15:12.722565",
     "status": "completed"
    },
    "tags": []
   },
   "source": [
    "### Regresja Grzbietowa"
   ]
  },
  {
   "cell_type": "code",
   "execution_count": 5,
   "id": "defensive-sodium",
   "metadata": {
    "execution": {
     "iopub.execute_input": "2021-05-20T18:15:12.770968Z",
     "iopub.status.busy": "2021-05-20T18:15:12.770389Z",
     "iopub.status.idle": "2021-05-20T18:15:13.095441Z",
     "shell.execute_reply": "2021-05-20T18:15:13.094961Z",
     "shell.execute_reply.started": "2021-05-20T18:13:19.210482Z"
    },
    "papermill": {
     "duration": 0.35558,
     "end_time": "2021-05-20T18:15:13.095586",
     "exception": false,
     "start_time": "2021-05-20T18:15:12.740006",
     "status": "completed"
    },
    "tags": []
   },
   "outputs": [
    {
     "data": {
      "image/png": "[encoded data removed]",
      "text/plain": [
       "<Figure size 576x432 with 1 Axes>"
      ]
     },
     "metadata": {
      "needs_background": "light"
     },
     "output_type": "display_data"
    }
   ],
   "source": [
    "alphas = 10 ** np.arange(1, 5)\n",
    "ridge_weight = []\n",
    "for alpha in alphas:    \n",
    "    ridge = Ridge(alpha = alpha, fit_intercept = True)\n",
    "    ridge.fit(X_train_std, y_train)\n",
    "    ridge_weight.append(ridge.coef_)\n",
    "    \n",
    "def weight_versus_alpha_plot(weight, alphas, features):\n",
    "    fig = plt.figure(figsize = (8, 6))\n",
    "    \n",
    "    weight = np.array(weight)\n",
    "    for col in range(weight.shape[1]):\n",
    "        plt.plot(alphas, weight[:, col], label = features[col])\n",
    "\n",
    "    plt.axhline(0, color = 'black', linestyle = '--', linewidth = 3)\n",
    "    \n",
    "    plt.legend(bbox_to_anchor = (1.3, 0.9))\n",
    "    plt.title('Współczynnik wagi wraz ze wzrostem alfa')\n",
    "    plt.ylabel('Współczynnik wagi')\n",
    "    plt.xlabel('Alpha')\n",
    "    return fig\n",
    "\n",
    "plt.rcParams['figure.figsize'] = 8, 6 \n",
    "plt.rcParams['font.size'] = 12\n",
    "\n",
    "\n",
    "ridge_fig = weight_versus_alpha_plot(ridge_weight, alphas, features)"
   ]
  },
  {
   "cell_type": "code",
   "execution_count": 6,
   "id": "sunrise-harmony",
   "metadata": {
    "execution": {
     "iopub.execute_input": "2021-05-20T18:15:13.130116Z",
     "iopub.status.busy": "2021-05-20T18:15:13.129163Z",
     "iopub.status.idle": "2021-05-20T18:15:13.136995Z",
     "shell.execute_reply": "2021-05-20T18:15:13.136188Z",
     "shell.execute_reply.started": "2021-05-20T18:13:58.313973Z"
    },
    "papermill": {
     "duration": 0.030953,
     "end_time": "2021-05-20T18:15:13.137166",
     "exception": false,
     "start_time": "2021-05-20T18:15:13.106213",
     "status": "completed"
    },
    "tags": []
   },
   "outputs": [
    {
     "name": "stdout",
     "output_type": "stream",
     "text": [
      "coefficients:\n",
      " [-1.05933451  1.31050717  0.23022789  0.66955241 -2.45607567  1.99086611\n",
      "  0.18119169 -3.09919804  2.56480813 -1.71116799 -2.12002592  0.56264409\n",
      " -4.00942448]\n",
      "best alpha:\n",
      " 1.0\n",
      "\n",
      "RSS: 2780.645850002648\n",
      "0.7789704562726552\n"
     ]
    }
   ],
   "source": [
    "alpha_range = 10. ** np.arange(-2, 3)\n",
    "ridge_cv = RidgeCV(alphas = alpha_range, fit_intercept = True)\n",
    "ridge_cv.fit(X_train_std, y_train)\n",
    "\n",
    "y_pred = ridge_cv.predict(X_test_std)\n",
    "print('coefficients:\\n', ridge_cv.coef_)\n",
    "print('best alpha:\\n' , ridge_cv.alpha_)\n",
    "print('\\nRSS:', np.sum((y_test - y_pred) ** 2))\n",
    "print(metrics.r2_score(y_test, y_pred))"
   ]
  },
  {
   "cell_type": "markdown",
   "id": "dying-johns",
   "metadata": {
    "papermill": {
     "duration": 0.009974,
     "end_time": "2021-05-20T18:15:13.158522",
     "exception": false,
     "start_time": "2021-05-20T18:15:13.148548",
     "status": "completed"
    },
    "tags": []
   },
   "source": [
    "### Lasso"
   ]
  },
  {
   "cell_type": "code",
   "execution_count": 7,
   "id": "organic-choir",
   "metadata": {
    "execution": {
     "iopub.execute_input": "2021-05-20T18:15:13.187750Z",
     "iopub.status.busy": "2021-05-20T18:15:13.186786Z",
     "iopub.status.idle": "2021-05-20T18:15:13.475030Z",
     "shell.execute_reply": "2021-05-20T18:15:13.474592Z",
     "shell.execute_reply.started": "2021-05-20T18:14:34.646832Z"
    },
    "papermill": {
     "duration": 0.306271,
     "end_time": "2021-05-20T18:15:13.475162",
     "exception": false,
     "start_time": "2021-05-20T18:15:13.168891",
     "status": "completed"
    },
    "tags": []
   },
   "outputs": [
    {
     "data": {
      "image/png": "[encoded data removed]",
      "text/plain": [
       "<Figure size 576x432 with 1 Axes>"
      ]
     },
     "metadata": {
      "needs_background": "light"
     },
     "output_type": "display_data"
    }
   ],
   "source": [
    "alphas = [0.01, 0.1, 1, 5, 8]\n",
    "\n",
    "lasso_weight = []\n",
    "for alpha in alphas:    \n",
    "    lasso = Lasso(alpha = alpha, fit_intercept = True)\n",
    "    lasso.fit(X_train_std, y_train)\n",
    "    lasso_weight.append(lasso.coef_)\n",
    "\n",
    "lasso_fig = weight_versus_alpha_plot(lasso_weight, alphas, features)"
   ]
  },
  {
   "cell_type": "code",
   "execution_count": 8,
   "id": "forward-energy",
   "metadata": {
    "execution": {
     "iopub.execute_input": "2021-05-20T18:15:13.506871Z",
     "iopub.status.busy": "2021-05-20T18:15:13.506264Z",
     "iopub.status.idle": "2021-05-20T18:15:13.525264Z",
     "shell.execute_reply": "2021-05-20T18:15:13.524751Z",
     "shell.execute_reply.started": "2021-05-20T18:14:41.148274Z"
    },
    "papermill": {
     "duration": 0.038131,
     "end_time": "2021-05-20T18:15:13.525397",
     "exception": false,
     "start_time": "2021-05-20T18:15:13.487266",
     "status": "completed"
    },
    "tags": []
   },
   "outputs": [
    {
     "name": "stdout",
     "output_type": "stream",
     "text": [
      "coefficients:\n",
      " [-0.98519191  1.15062166  0.          0.67088555 -2.25508394  2.02935132\n",
      "  0.04844743 -2.99048816  2.0611297  -1.21198616 -2.07289344  0.53270836\n",
      " -3.95956239]\n",
      "best alpha:\n",
      " 0.030575666002936017\n",
      "\n",
      "RSS: 2797.2525685618148\n",
      "0.7776504120728742\n"
     ]
    }
   ],
   "source": [
    "from sklearn.metrics import r2_score\n",
    "\n",
    "lasso_cv = LassoCV(n_alphas = 10, fit_intercept = True)\n",
    "lasso_cv.fit(X_train_std, y_train)\n",
    "\n",
    "y_pred = lasso_cv.predict(X_test_std)\n",
    "print('coefficients:\\n', lasso_cv.coef_)\n",
    "print('best alpha:\\n', lasso_cv.alpha_)\n",
    "print('\\nRSS:', np.sum(( y_test - y_pred ) ** 2))\n",
    "print(r2_score(y_test, y_pred))"
   ]
  },
  {
   "cell_type": "markdown",
   "id": "configured-collins",
   "metadata": {
    "papermill": {
     "duration": 0.012078,
     "end_time": "2021-05-20T18:15:13.549964",
     "exception": false,
     "start_time": "2021-05-20T18:15:13.537886",
     "status": "completed"
    },
    "tags": []
   },
   "source": [
    "### Wynik"
   ]
  },
  {
   "cell_type": "code",
   "execution_count": 9,
   "id": "royal-shower",
   "metadata": {
    "execution": {
     "iopub.execute_input": "2021-05-20T18:15:13.582226Z",
     "iopub.status.busy": "2021-05-20T18:15:13.581261Z",
     "iopub.status.idle": "2021-05-20T18:15:13.590025Z",
     "shell.execute_reply": "2021-05-20T18:15:13.589310Z",
     "shell.execute_reply.started": "2021-05-20T18:14:44.268710Z"
    },
    "papermill": {
     "duration": 0.027745,
     "end_time": "2021-05-20T18:15:13.590228",
     "exception": false,
     "start_time": "2021-05-20T18:15:13.562483",
     "status": "completed"
    },
    "tags": []
   },
   "outputs": [
    {
     "name": "stdout",
     "output_type": "stream",
     "text": [
      "Regresjia ridge: R^2 wynik na danych treningowych 71.30645548355913\n",
      "Regresjia ridge: R^2 wynik na danych testowych 78.4777431688241 \n",
      "\n",
      "Regresjia Lasso: R^2 wynik na danych treningowych 71.26079403488139\n",
      "Regresjia Lasso: R^2 wynik na danych testowych 78.25793462383346\n"
     ]
    }
   ],
   "source": [
    "ridge_reg = Ridge(alpha=ridge_cv.alpha_)\n",
    "ridge_reg.fit(X_train, y_train)\n",
    "lasso_reg = Lasso(alpha=lasso_cv.alpha_)\n",
    "lasso_reg.fit(X_train, y_train)\n",
    "\n",
    "\n",
    "print('Regresjia ridge: R^2 wynik na danych treningowych', ridge_reg.score(X_train, y_train)*100)\n",
    "print('Regresjia ridge: R^2 wynik na danych testowych', ridge_reg.score(X_test, y_test)*100, '\\n')\n",
    "print('Regresjia Lasso: R^2 wynik na danych treningowych', lasso_reg.score(X_train, y_train)*100)\n",
    "print('Regresjia Lasso: R^2 wynik na danych testowych', lasso_reg.score(X_test, y_test)*100)"
   ]
  }
 ],
 "metadata": {
  "kernelspec": {
   "display_name": "Python 3",
   "language": "python",
   "name": "python3"
  },
  "language_info": {
   "codemirror_mode": {
    "name": "ipython",
    "version": 3
   },
   "file_extension": ".py",
   "mimetype": "text/x-python",
   "name": "python",
   "nbconvert_exporter": "python",
   "pygments_lexer": "ipython3",
   "version": "3.7.10"
  },
  "papermill": {
   "default_parameters": {},
   "duration": 10.954818,
   "end_time": "2021-05-20T18:15:14.318374",
   "environment_variables": {},
   "exception": null,
   "input_path": "__notebook__.ipynb",
   "output_path": "__notebook__.ipynb",
   "parameters": {},
   "start_time": "2021-05-20T18:15:03.363556",
   "version": "2.3.3"
  }
 },
 "nbformat": 4,
 "nbformat_minor": 5
}
