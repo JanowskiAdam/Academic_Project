{
 "cells": [
  {
   "cell_type": "code",
   "execution_count": 1,
   "id": "periodic-scholar",
   "metadata": {
    "_cell_guid": "b1076dfc-b9ad-4769-8c92-a6c4dae69d19",
    "_uuid": "8f2839f25d086af736a60e9eeb907d3b93b6e0e5",
    "execution": {
     "iopub.execute_input": "2021-04-22T16:41:36.325961Z",
     "iopub.status.busy": "2021-04-22T16:41:36.324130Z",
     "iopub.status.idle": "2021-04-22T16:41:37.343337Z",
     "shell.execute_reply": "2021-04-22T16:41:37.342629Z"
    },
    "papermill": {
     "duration": 1.051798,
     "end_time": "2021-04-22T16:41:37.343513",
     "exception": false,
     "start_time": "2021-04-22T16:41:36.291715",
     "status": "completed"
    },
    "tags": []
   },
   "outputs": [],
   "source": [
    "# Import\n",
    "import pandas as pd\n",
    "import numpy as np\n",
    "import matplotlib.pyplot as plt\n",
    "import seaborn as sns\n",
    "%matplotlib inline"
   ]
  },
  {
   "cell_type": "code",
   "execution_count": 2,
   "id": "ruled-conviction",
   "metadata": {
    "execution": {
     "iopub.execute_input": "2021-04-22T16:41:37.402601Z",
     "iopub.status.busy": "2021-04-22T16:41:37.401848Z",
     "iopub.status.idle": "2021-04-22T16:41:37.452697Z",
     "shell.execute_reply": "2021-04-22T16:41:37.451992Z"
    },
    "papermill": {
     "duration": 0.082478,
     "end_time": "2021-04-22T16:41:37.452846",
     "exception": false,
     "start_time": "2021-04-22T16:41:37.370368",
     "status": "completed"
    },
    "tags": []
   },
   "outputs": [
    {
     "name": "stdout",
     "output_type": "stream",
     "text": [
      "<class 'pandas.core.frame.DataFrame'>\n",
      "RangeIndex: 891 entries, 0 to 890\n",
      "Data columns (total 12 columns):\n",
      " #   Column       Non-Null Count  Dtype  \n",
      "---  ------       --------------  -----  \n",
      " 0   PassengerId  891 non-null    int64  \n",
      " 1   Survived     891 non-null    int64  \n",
      " 2   Pclass       891 non-null    int64  \n",
      " 3   Name         891 non-null    object \n",
      " 4   Sex          891 non-null    object \n",
      " 5   Age          714 non-null    float64\n",
      " 6   SibSp        891 non-null    int64  \n",
      " 7   Parch        891 non-null    int64  \n",
      " 8   Ticket       891 non-null    object \n",
      " 9   Fare         891 non-null    float64\n",
      " 10  Cabin        204 non-null    object \n",
      " 11  Embarked     889 non-null    object \n",
      "dtypes: float64(2), int64(5), object(5)\n",
      "memory usage: 83.7+ KB\n"
     ]
    }
   ],
   "source": [
    "# Wczytanie danych treningowych oraz testowych\n",
    "df_train = pd.read_csv(\"../input/titanic/train.csv\")\n",
    "df_test=pd.read_csv(\"../input/titanic/test.csv\")\n",
    "df_train.info()"
   ]
  },
  {
   "cell_type": "code",
   "execution_count": 3,
   "id": "chief-ecuador",
   "metadata": {
    "execution": {
     "iopub.execute_input": "2021-04-22T16:41:37.518424Z",
     "iopub.status.busy": "2021-04-22T16:41:37.517691Z",
     "iopub.status.idle": "2021-04-22T16:41:37.521127Z",
     "shell.execute_reply": "2021-04-22T16:41:37.521670Z"
    },
    "papermill": {
     "duration": 0.040831,
     "end_time": "2021-04-22T16:41:37.521836",
     "exception": false,
     "start_time": "2021-04-22T16:41:37.481005",
     "status": "completed"
    },
    "tags": []
   },
   "outputs": [
    {
     "data": {
      "text/plain": [
       "PassengerId      0\n",
       "Survived         0\n",
       "Pclass           0\n",
       "Name             0\n",
       "Sex              0\n",
       "Age            177\n",
       "SibSp            0\n",
       "Parch            0\n",
       "Ticket           0\n",
       "Fare             0\n",
       "Cabin          687\n",
       "Embarked         2\n",
       "dtype: int64"
      ]
     },
     "execution_count": 3,
     "metadata": {},
     "output_type": "execute_result"
    }
   ],
   "source": [
    "#Ilość brakujących danych\n",
    "df_train.isnull().sum()"
   ]
  },
  {
   "cell_type": "code",
   "execution_count": 4,
   "id": "declared-notion",
   "metadata": {
    "execution": {
     "iopub.execute_input": "2021-04-22T16:41:37.581749Z",
     "iopub.status.busy": "2021-04-22T16:41:37.580931Z",
     "iopub.status.idle": "2021-04-22T16:41:37.821160Z",
     "shell.execute_reply": "2021-04-22T16:41:37.820572Z"
    },
    "papermill": {
     "duration": 0.270679,
     "end_time": "2021-04-22T16:41:37.821301",
     "exception": false,
     "start_time": "2021-04-22T16:41:37.550622",
     "status": "completed"
    },
    "tags": []
   },
   "outputs": [
    {
     "data": {
      "text/plain": [
       "<AxesSubplot:>"
      ]
     },
     "execution_count": 4,
     "metadata": {},
     "output_type": "execute_result"
    },
    {
     "data": {
      "image/png": "[encoded data removed]",
      "text/plain": [
       "<Figure size 432x288 with 1 Axes>"
      ]
     },
     "metadata": {
      "needs_background": "light"
     },
     "output_type": "display_data"
    }
   ],
   "source": [
    "# Wizualizacja brakujących danych\n",
    "sns.heatmap(df_train.isnull(),yticklabels=False,cbar=False,cmap='viridis')"
   ]
  },
  {
   "cell_type": "code",
   "execution_count": 5,
   "id": "automated-nitrogen",
   "metadata": {
    "execution": {
     "iopub.execute_input": "2021-04-22T16:41:37.887335Z",
     "iopub.status.busy": "2021-04-22T16:41:37.886640Z",
     "iopub.status.idle": "2021-04-22T16:41:38.020444Z",
     "shell.execute_reply": "2021-04-22T16:41:38.019705Z"
    },
    "papermill": {
     "duration": 0.17085,
     "end_time": "2021-04-22T16:41:38.020610",
     "exception": false,
     "start_time": "2021-04-22T16:41:37.849760",
     "status": "completed"
    },
    "tags": []
   },
   "outputs": [
    {
     "data": {
      "text/plain": [
       "<AxesSubplot:xlabel='Survived', ylabel='count'>"
      ]
     },
     "execution_count": 5,
     "metadata": {},
     "output_type": "execute_result"
    },
    {
     "data": {
      "image/png": "[encoded data removed]",
      "text/plain": [
       "<Figure size 432x288 with 1 Axes>"
      ]
     },
     "metadata": {},
     "output_type": "display_data"
    }
   ],
   "source": [
    "# Wizualizacja stosunku ocalałych ogółem \n",
    "sns.set_style('whitegrid')\n",
    "sns.countplot(x='Survived',data=df_train,palette='viridis') "
   ]
  },
  {
   "cell_type": "code",
   "execution_count": 6,
   "id": "lesser-substance",
   "metadata": {
    "execution": {
     "iopub.execute_input": "2021-04-22T16:41:38.088257Z",
     "iopub.status.busy": "2021-04-22T16:41:38.087164Z",
     "iopub.status.idle": "2021-04-22T16:41:38.238765Z",
     "shell.execute_reply": "2021-04-22T16:41:38.238001Z"
    },
    "papermill": {
     "duration": 0.187781,
     "end_time": "2021-04-22T16:41:38.238933",
     "exception": false,
     "start_time": "2021-04-22T16:41:38.051152",
     "status": "completed"
    },
    "tags": []
   },
   "outputs": [
    {
     "data": {
      "text/plain": [
       "<AxesSubplot:xlabel='Survived', ylabel='count'>"
      ]
     },
     "execution_count": 6,
     "metadata": {},
     "output_type": "execute_result"
    },
    {
     "data": {
      "image/png": "[encoded data removed]",
      "text/plain": [
       "<Figure size 432x288 with 1 Axes>"
      ]
     },
     "metadata": {},
     "output_type": "display_data"
    }
   ],
   "source": [
    "## Wizualizacja stosunku ocalałych względem płci\n",
    "sns.countplot(x='Survived',hue='Sex',data=df_train,palette='viridis')"
   ]
  },
  {
   "cell_type": "code",
   "execution_count": 7,
   "id": "musical-vatican",
   "metadata": {
    "execution": {
     "iopub.execute_input": "2021-04-22T16:41:38.306997Z",
     "iopub.status.busy": "2021-04-22T16:41:38.306018Z",
     "iopub.status.idle": "2021-04-22T16:41:38.523537Z",
     "shell.execute_reply": "2021-04-22T16:41:38.522648Z"
    },
    "papermill": {
     "duration": 0.254138,
     "end_time": "2021-04-22T16:41:38.523761",
     "exception": false,
     "start_time": "2021-04-22T16:41:38.269623",
     "status": "completed"
    },
    "tags": []
   },
   "outputs": [
    {
     "data": {
      "text/plain": [
       "<AxesSubplot:xlabel='Survived', ylabel='count'>"
      ]
     },
     "execution_count": 7,
     "metadata": {},
     "output_type": "execute_result"
    },
    {
     "data": {
      "image/png": "[encoded data removed]",
      "text/plain": [
       "<Figure size 432x288 with 1 Axes>"
      ]
     },
     "metadata": {},
     "output_type": "display_data"
    }
   ],
   "source": [
    "# Wizualizacja stosunku ocalałych względem klasy\n",
    "sns.countplot(x='Survived',hue='Pclass',data=df_train)"
   ]
  },
  {
   "cell_type": "code",
   "execution_count": 8,
   "id": "accessible-fashion",
   "metadata": {
    "execution": {
     "iopub.execute_input": "2021-04-22T16:41:38.607077Z",
     "iopub.status.busy": "2021-04-22T16:41:38.606123Z",
     "iopub.status.idle": "2021-04-22T16:41:38.610238Z",
     "shell.execute_reply": "2021-04-22T16:41:38.610692Z"
    },
    "papermill": {
     "duration": 0.046575,
     "end_time": "2021-04-22T16:41:38.610868",
     "exception": false,
     "start_time": "2021-04-22T16:41:38.564293",
     "status": "completed"
    },
    "tags": []
   },
   "outputs": [
    {
     "data": {
      "text/plain": [
       "3    491\n",
       "1    216\n",
       "2    184\n",
       "Name: Pclass, dtype: int64"
      ]
     },
     "execution_count": 8,
     "metadata": {},
     "output_type": "execute_result"
    }
   ],
   "source": [
    "# Ilość pasażerów w próbie\n",
    "df_train['Pclass'].value_counts()"
   ]
  },
  {
   "cell_type": "code",
   "execution_count": 9,
   "id": "accepted-brass",
   "metadata": {
    "execution": {
     "iopub.execute_input": "2021-04-22T16:41:38.681385Z",
     "iopub.status.busy": "2021-04-22T16:41:38.680367Z",
     "iopub.status.idle": "2021-04-22T16:41:38.814754Z",
     "shell.execute_reply": "2021-04-22T16:41:38.815258Z"
    },
    "papermill": {
     "duration": 0.170462,
     "end_time": "2021-04-22T16:41:38.815440",
     "exception": false,
     "start_time": "2021-04-22T16:41:38.644978",
     "status": "completed"
    },
    "tags": []
   },
   "outputs": [
    {
     "data": {
      "text/plain": [
       "<AxesSubplot:xlabel='Pclass', ylabel='count'>"
      ]
     },
     "execution_count": 9,
     "metadata": {},
     "output_type": "execute_result"
    },
    {
     "data": {
      "image/png": "[encoded data removed]",
      "text/plain": [
       "<Figure size 432x288 with 1 Axes>"
      ]
     },
     "metadata": {},
     "output_type": "display_data"
    }
   ],
   "source": [
    "sns.countplot(x='Pclass',data=df_train)"
   ]
  },
  {
   "cell_type": "code",
   "execution_count": 10,
   "id": "joint-seafood",
   "metadata": {
    "execution": {
     "iopub.execute_input": "2021-04-22T16:41:38.887133Z",
     "iopub.status.busy": "2021-04-22T16:41:38.886358Z",
     "iopub.status.idle": "2021-04-22T16:41:39.091031Z",
     "shell.execute_reply": "2021-04-22T16:41:39.090306Z"
    },
    "papermill": {
     "duration": 0.241494,
     "end_time": "2021-04-22T16:41:39.091183",
     "exception": false,
     "start_time": "2021-04-22T16:41:38.849689",
     "status": "completed"
    },
    "tags": []
   },
   "outputs": [
    {
     "data": {
      "text/plain": [
       "<AxesSubplot:xlabel='Pclass', ylabel='Age'>"
      ]
     },
     "execution_count": 10,
     "metadata": {},
     "output_type": "execute_result"
    },
    {
     "data": {
      "image/png": "[encoded data removed]",
      "text/plain": [
       "<Figure size 864x504 with 1 Axes>"
      ]
     },
     "metadata": {},
     "output_type": "display_data"
    }
   ],
   "source": [
    "# Wykres pudełkowy dla wieku względem klasy\n",
    "plt.figure(figsize=(12, 7))\n",
    "sns.boxplot(x='Pclass',y='Age',data=df_train,palette='winter')"
   ]
  },
  {
   "cell_type": "markdown",
   "id": "apparent-quick",
   "metadata": {
    "papermill": {
     "duration": 0.034972,
     "end_time": "2021-04-22T16:41:39.161248",
     "exception": false,
     "start_time": "2021-04-22T16:41:39.126276",
     "status": "completed"
    },
    "tags": []
   },
   "source": [
    "Średni wiek według klas  to:\n",
    "\n",
    "I klasa = średni wiek 37 lat.\n",
    "II klasa = średni wiek 29 lat.\n",
    "III klasa = średni wiek 24 lata."
   ]
  },
  {
   "cell_type": "code",
   "execution_count": 11,
   "id": "dominant-knife",
   "metadata": {
    "execution": {
     "iopub.execute_input": "2021-04-22T16:41:39.239628Z",
     "iopub.status.busy": "2021-04-22T16:41:39.238910Z",
     "iopub.status.idle": "2021-04-22T16:41:39.242636Z",
     "shell.execute_reply": "2021-04-22T16:41:39.242102Z"
    },
    "papermill": {
     "duration": 0.046523,
     "end_time": "2021-04-22T16:41:39.242774",
     "exception": false,
     "start_time": "2021-04-22T16:41:39.196251",
     "status": "completed"
    },
    "tags": []
   },
   "outputs": [],
   "source": [
    "# Wypełnienie brakujących danych wieku średnimi\n",
    "def impute_age(cols):\n",
    "    Age=cols[0]\n",
    "    Pclass=cols[1]\n",
    "    \n",
    "    if pd.isnull(Age):\n",
    "        \n",
    "        if Pclass ==1:\n",
    "            return 37\n",
    "        elif Pclass ==2:\n",
    "              return 29\n",
    "        else:\n",
    "              return 24\n",
    "              \n",
    "    else:\n",
    "        return Age\n",
    "    \n",
    "    \n",
    "def impute_age_test(cols):\n",
    "    Age=cols[0]\n",
    "    Pclass=cols[1]\n",
    "    \n",
    "    if pd.isnull(Age):\n",
    "        \n",
    "        if Pclass ==1:\n",
    "            return 42\n",
    "        elif Pclass ==2:\n",
    "              return 27\n",
    "        else:\n",
    "              return 24\n",
    "              \n",
    "    else:\n",
    "        return Age"
   ]
  },
  {
   "cell_type": "code",
   "execution_count": 12,
   "id": "institutional-retail",
   "metadata": {
    "execution": {
     "iopub.execute_input": "2021-04-22T16:41:39.316412Z",
     "iopub.status.busy": "2021-04-22T16:41:39.315757Z",
     "iopub.status.idle": "2021-04-22T16:41:39.348175Z",
     "shell.execute_reply": "2021-04-22T16:41:39.347429Z"
    },
    "papermill": {
     "duration": 0.070427,
     "end_time": "2021-04-22T16:41:39.348328",
     "exception": false,
     "start_time": "2021-04-22T16:41:39.277901",
     "status": "completed"
    },
    "tags": []
   },
   "outputs": [],
   "source": [
    "df_train['Age'] = df_train[['Age','Pclass']].apply(impute_age,axis=1)\n",
    "df_test['Age']=df_test[['Age','Pclass']].apply(impute_age_test, axis=1)"
   ]
  },
  {
   "cell_type": "code",
   "execution_count": 13,
   "id": "statutory-wichita",
   "metadata": {
    "execution": {
     "iopub.execute_input": "2021-04-22T16:41:39.426950Z",
     "iopub.status.busy": "2021-04-22T16:41:39.425941Z",
     "iopub.status.idle": "2021-04-22T16:41:39.669110Z",
     "shell.execute_reply": "2021-04-22T16:41:39.668417Z"
    },
    "papermill": {
     "duration": 0.284864,
     "end_time": "2021-04-22T16:41:39.669256",
     "exception": false,
     "start_time": "2021-04-22T16:41:39.384392",
     "status": "completed"
    },
    "tags": []
   },
   "outputs": [
    {
     "data": {
      "text/plain": [
       "<AxesSubplot:>"
      ]
     },
     "execution_count": 13,
     "metadata": {},
     "output_type": "execute_result"
    },
    {
     "data": {
      "image/png": "[encoded data removed]",
      "text/plain": [
       "<Figure size 432x288 with 1 Axes>"
      ]
     },
     "metadata": {},
     "output_type": "display_data"
    }
   ],
   "source": [
    "# Ponowny heatmap sprawdzający poprawność oczyszczenia danych treningowych\n",
    "sns.heatmap(df_train.isnull(),yticklabels=False,cbar=False,cmap='viridis')"
   ]
  },
  {
   "cell_type": "code",
   "execution_count": 14,
   "id": "beginning-forward",
   "metadata": {
    "execution": {
     "iopub.execute_input": "2021-04-22T16:41:39.750981Z",
     "iopub.status.busy": "2021-04-22T16:41:39.749861Z",
     "iopub.status.idle": "2021-04-22T16:41:39.945858Z",
     "shell.execute_reply": "2021-04-22T16:41:39.945289Z"
    },
    "papermill": {
     "duration": 0.240284,
     "end_time": "2021-04-22T16:41:39.946025",
     "exception": false,
     "start_time": "2021-04-22T16:41:39.705741",
     "status": "completed"
    },
    "tags": []
   },
   "outputs": [
    {
     "data": {
      "text/plain": [
       "<AxesSubplot:>"
      ]
     },
     "execution_count": 14,
     "metadata": {},
     "output_type": "execute_result"
    },
    {
     "data": {
      "image/png": "[encoded data removed]",
      "text/plain": [
       "<Figure size 720x720 with 1 Axes>"
      ]
     },
     "metadata": {},
     "output_type": "display_data"
    }
   ],
   "source": [
    "# Heatmap sprawdzający poprawność oczyszczenia danych testowych\n",
    "plt.figure(figsize=(10,10))\n",
    "sns.heatmap(df_test.isnull(), cmap=None, yticklabels=False, cbar = False)"
   ]
  },
  {
   "cell_type": "code",
   "execution_count": 15,
   "id": "cutting-wheat",
   "metadata": {
    "execution": {
     "iopub.execute_input": "2021-04-22T16:41:40.030782Z",
     "iopub.status.busy": "2021-04-22T16:41:40.029789Z",
     "iopub.status.idle": "2021-04-22T16:41:40.034065Z",
     "shell.execute_reply": "2021-04-22T16:41:40.033395Z"
    },
    "papermill": {
     "duration": 0.049593,
     "end_time": "2021-04-22T16:41:40.034216",
     "exception": false,
     "start_time": "2021-04-22T16:41:39.984623",
     "status": "completed"
    },
    "tags": []
   },
   "outputs": [],
   "source": [
    "# Usuniecie niepotrzebnych kolumn\n",
    "df_train.drop(['Name','Age','Ticket','Fare','Cabin'],inplace=True,axis=1)\n",
    "df_test.drop(['Name','Age','Ticket','Fare','Cabin'],inplace=True,axis=1)"
   ]
  },
  {
   "cell_type": "code",
   "execution_count": 16,
   "id": "higher-dylan",
   "metadata": {
    "execution": {
     "iopub.execute_input": "2021-04-22T16:41:40.142864Z",
     "iopub.status.busy": "2021-04-22T16:41:40.129345Z",
     "iopub.status.idle": "2021-04-22T16:41:40.273069Z",
     "shell.execute_reply": "2021-04-22T16:41:40.272496Z"
    },
    "papermill": {
     "duration": 0.201005,
     "end_time": "2021-04-22T16:41:40.273221",
     "exception": false,
     "start_time": "2021-04-22T16:41:40.072216",
     "status": "completed"
    },
    "tags": []
   },
   "outputs": [
    {
     "data": {
      "text/plain": [
       "<AxesSubplot:>"
      ]
     },
     "execution_count": 16,
     "metadata": {},
     "output_type": "execute_result"
    },
    {
     "data": {
      "image/png": "[encoded data removed]",
      "text/plain": [
       "<Figure size 432x288 with 1 Axes>"
      ]
     },
     "metadata": {},
     "output_type": "display_data"
    }
   ],
   "source": [
    "# Ponowne sprawdzenie poprawności oczyszczenia danych treningowych\n",
    "sns.heatmap(df_train.isnull(),yticklabels=False,cbar=False,cmap='viridis')"
   ]
  },
  {
   "cell_type": "code",
   "execution_count": 17,
   "id": "artificial-general",
   "metadata": {
    "execution": {
     "iopub.execute_input": "2021-04-22T16:41:40.381484Z",
     "iopub.status.busy": "2021-04-22T16:41:40.380450Z",
     "iopub.status.idle": "2021-04-22T16:41:40.484294Z",
     "shell.execute_reply": "2021-04-22T16:41:40.484828Z"
    },
    "papermill": {
     "duration": 0.172693,
     "end_time": "2021-04-22T16:41:40.485037",
     "exception": false,
     "start_time": "2021-04-22T16:41:40.312344",
     "status": "completed"
    },
    "tags": []
   },
   "outputs": [
    {
     "data": {
      "text/plain": [
       "<AxesSubplot:>"
      ]
     },
     "execution_count": 17,
     "metadata": {},
     "output_type": "execute_result"
    },
    {
     "data": {
      "image/png": "[encoded data removed]",
      "text/plain": [
       "<Figure size 432x288 with 1 Axes>"
      ]
     },
     "metadata": {},
     "output_type": "display_data"
    }
   ],
   "source": [
    "# Ponowne sprawdzenie poprawności oczyszczenia danych testowych\n",
    "sns.heatmap(df_test.isnull(),yticklabels=False,cbar=False,cmap='viridis')"
   ]
  },
  {
   "cell_type": "code",
   "execution_count": 18,
   "id": "published-kingdom",
   "metadata": {
    "execution": {
     "iopub.execute_input": "2021-04-22T16:41:40.569114Z",
     "iopub.status.busy": "2021-04-22T16:41:40.568148Z",
     "iopub.status.idle": "2021-04-22T16:41:40.586543Z",
     "shell.execute_reply": "2021-04-22T16:41:40.585900Z"
    },
    "papermill": {
     "duration": 0.061513,
     "end_time": "2021-04-22T16:41:40.586695",
     "exception": false,
     "start_time": "2021-04-22T16:41:40.525182",
     "status": "completed"
    },
    "tags": []
   },
   "outputs": [
    {
     "data": {
      "text/html": [
       "<div>\n",
       "<style scoped>\n",
       "    .dataframe tbody tr th:only-of-type {\n",
       "        vertical-align: middle;\n",
       "    }\n",
       "\n",
       "    .dataframe tbody tr th {\n",
       "        vertical-align: top;\n",
       "    }\n",
       "\n",
       "    .dataframe thead th {\n",
       "        text-align: right;\n",
       "    }\n",
       "</style>\n",
       "<table border=\"1\" class=\"dataframe\">\n",
       "  <thead>\n",
       "    <tr style=\"text-align: right;\">\n",
       "      <th></th>\n",
       "      <th>PassengerId</th>\n",
       "      <th>Survived</th>\n",
       "      <th>Pclass</th>\n",
       "      <th>Sex</th>\n",
       "      <th>SibSp</th>\n",
       "      <th>Parch</th>\n",
       "      <th>Embarked</th>\n",
       "    </tr>\n",
       "  </thead>\n",
       "  <tbody>\n",
       "    <tr>\n",
       "      <th>0</th>\n",
       "      <td>1</td>\n",
       "      <td>0</td>\n",
       "      <td>3</td>\n",
       "      <td>male</td>\n",
       "      <td>1</td>\n",
       "      <td>0</td>\n",
       "      <td>S</td>\n",
       "    </tr>\n",
       "    <tr>\n",
       "      <th>1</th>\n",
       "      <td>2</td>\n",
       "      <td>1</td>\n",
       "      <td>1</td>\n",
       "      <td>female</td>\n",
       "      <td>1</td>\n",
       "      <td>0</td>\n",
       "      <td>C</td>\n",
       "    </tr>\n",
       "    <tr>\n",
       "      <th>2</th>\n",
       "      <td>3</td>\n",
       "      <td>1</td>\n",
       "      <td>3</td>\n",
       "      <td>female</td>\n",
       "      <td>0</td>\n",
       "      <td>0</td>\n",
       "      <td>S</td>\n",
       "    </tr>\n",
       "    <tr>\n",
       "      <th>3</th>\n",
       "      <td>4</td>\n",
       "      <td>1</td>\n",
       "      <td>1</td>\n",
       "      <td>female</td>\n",
       "      <td>1</td>\n",
       "      <td>0</td>\n",
       "      <td>S</td>\n",
       "    </tr>\n",
       "    <tr>\n",
       "      <th>4</th>\n",
       "      <td>5</td>\n",
       "      <td>0</td>\n",
       "      <td>3</td>\n",
       "      <td>male</td>\n",
       "      <td>0</td>\n",
       "      <td>0</td>\n",
       "      <td>S</td>\n",
       "    </tr>\n",
       "  </tbody>\n",
       "</table>\n",
       "</div>"
      ],
      "text/plain": [
       "   PassengerId  Survived  Pclass     Sex  SibSp  Parch Embarked\n",
       "0            1         0       3    male      1      0        S\n",
       "1            2         1       1  female      1      0        C\n",
       "2            3         1       3  female      0      0        S\n",
       "3            4         1       1  female      1      0        S\n",
       "4            5         0       3    male      0      0        S"
      ]
     },
     "execution_count": 18,
     "metadata": {},
     "output_type": "execute_result"
    }
   ],
   "source": [
    "# Podgląd danych treningowych\n",
    "df_train.head()"
   ]
  },
  {
   "cell_type": "code",
   "execution_count": 19,
   "id": "superior-journal",
   "metadata": {
    "execution": {
     "iopub.execute_input": "2021-04-22T16:41:40.675443Z",
     "iopub.status.busy": "2021-04-22T16:41:40.674671Z",
     "iopub.status.idle": "2021-04-22T16:41:40.681480Z",
     "shell.execute_reply": "2021-04-22T16:41:40.680751Z"
    },
    "papermill": {
     "duration": 0.053707,
     "end_time": "2021-04-22T16:41:40.681628",
     "exception": false,
     "start_time": "2021-04-22T16:41:40.627921",
     "status": "completed"
    },
    "tags": []
   },
   "outputs": [],
   "source": [
    "# Przekonwertowanie cechy kategorialnej 'Sex' na zmienne fikcyjne\n",
    "sex_train = pd.get_dummies(df_train['Sex'],drop_first=True)\n",
    "sex_test = pd.get_dummies(df_test['Sex'],drop_first=True)"
   ]
  },
  {
   "cell_type": "code",
   "execution_count": 20,
   "id": "adopted-spelling",
   "metadata": {
    "execution": {
     "iopub.execute_input": "2021-04-22T16:41:40.779226Z",
     "iopub.status.busy": "2021-04-22T16:41:40.778253Z",
     "iopub.status.idle": "2021-04-22T16:41:40.781088Z",
     "shell.execute_reply": "2021-04-22T16:41:40.781557Z"
    },
    "papermill": {
     "duration": 0.05869,
     "end_time": "2021-04-22T16:41:40.781735",
     "exception": false,
     "start_time": "2021-04-22T16:41:40.723045",
     "status": "completed"
    },
    "tags": []
   },
   "outputs": [],
   "source": [
    "# Przekonwertowanie cechy kategorialnej 'Embarked' na zmienne fikcyjne\n",
    "embark_train=pd.get_dummies(df_train['Embarked'], drop_first=True) \n",
    "embark_test=pd.get_dummies(df_test['Embarked'], drop_first=True)"
   ]
  },
  {
   "cell_type": "code",
   "execution_count": 21,
   "id": "casual-denial",
   "metadata": {
    "execution": {
     "iopub.execute_input": "2021-04-22T16:41:40.873181Z",
     "iopub.status.busy": "2021-04-22T16:41:40.872312Z",
     "iopub.status.idle": "2021-04-22T16:41:40.875526Z",
     "shell.execute_reply": "2021-04-22T16:41:40.874822Z"
    },
    "papermill": {
     "duration": 0.052837,
     "end_time": "2021-04-22T16:41:40.875665",
     "exception": false,
     "start_time": "2021-04-22T16:41:40.822828",
     "status": "completed"
    },
    "tags": []
   },
   "outputs": [],
   "source": [
    "# Konkatenacja, aby wprowadzić przekonwertowane zmienne\n",
    "df_train = pd.concat([df_train,sex_train, embark_train],axis=1)\n",
    "df_test = pd.concat([df_test,sex_test, embark_test],axis=1)"
   ]
  },
  {
   "cell_type": "code",
   "execution_count": 22,
   "id": "engaged-column",
   "metadata": {
    "execution": {
     "iopub.execute_input": "2021-04-22T16:41:40.971030Z",
     "iopub.status.busy": "2021-04-22T16:41:40.970346Z",
     "iopub.status.idle": "2021-04-22T16:41:40.974430Z",
     "shell.execute_reply": "2021-04-22T16:41:40.973704Z"
    },
    "papermill": {
     "duration": 0.057437,
     "end_time": "2021-04-22T16:41:40.974579",
     "exception": false,
     "start_time": "2021-04-22T16:41:40.917142",
     "status": "completed"
    },
    "tags": []
   },
   "outputs": [
    {
     "data": {
      "text/html": [
       "<div>\n",
       "<style scoped>\n",
       "    .dataframe tbody tr th:only-of-type {\n",
       "        vertical-align: middle;\n",
       "    }\n",
       "\n",
       "    .dataframe tbody tr th {\n",
       "        vertical-align: top;\n",
       "    }\n",
       "\n",
       "    .dataframe thead th {\n",
       "        text-align: right;\n",
       "    }\n",
       "</style>\n",
       "<table border=\"1\" class=\"dataframe\">\n",
       "  <thead>\n",
       "    <tr style=\"text-align: right;\">\n",
       "      <th></th>\n",
       "      <th>PassengerId</th>\n",
       "      <th>Survived</th>\n",
       "      <th>Pclass</th>\n",
       "      <th>Sex</th>\n",
       "      <th>SibSp</th>\n",
       "      <th>Parch</th>\n",
       "      <th>Embarked</th>\n",
       "      <th>male</th>\n",
       "      <th>Q</th>\n",
       "      <th>S</th>\n",
       "    </tr>\n",
       "  </thead>\n",
       "  <tbody>\n",
       "    <tr>\n",
       "      <th>0</th>\n",
       "      <td>1</td>\n",
       "      <td>0</td>\n",
       "      <td>3</td>\n",
       "      <td>male</td>\n",
       "      <td>1</td>\n",
       "      <td>0</td>\n",
       "      <td>S</td>\n",
       "      <td>1</td>\n",
       "      <td>0</td>\n",
       "      <td>1</td>\n",
       "    </tr>\n",
       "    <tr>\n",
       "      <th>1</th>\n",
       "      <td>2</td>\n",
       "      <td>1</td>\n",
       "      <td>1</td>\n",
       "      <td>female</td>\n",
       "      <td>1</td>\n",
       "      <td>0</td>\n",
       "      <td>C</td>\n",
       "      <td>0</td>\n",
       "      <td>0</td>\n",
       "      <td>0</td>\n",
       "    </tr>\n",
       "    <tr>\n",
       "      <th>2</th>\n",
       "      <td>3</td>\n",
       "      <td>1</td>\n",
       "      <td>3</td>\n",
       "      <td>female</td>\n",
       "      <td>0</td>\n",
       "      <td>0</td>\n",
       "      <td>S</td>\n",
       "      <td>0</td>\n",
       "      <td>0</td>\n",
       "      <td>1</td>\n",
       "    </tr>\n",
       "    <tr>\n",
       "      <th>3</th>\n",
       "      <td>4</td>\n",
       "      <td>1</td>\n",
       "      <td>1</td>\n",
       "      <td>female</td>\n",
       "      <td>1</td>\n",
       "      <td>0</td>\n",
       "      <td>S</td>\n",
       "      <td>0</td>\n",
       "      <td>0</td>\n",
       "      <td>1</td>\n",
       "    </tr>\n",
       "    <tr>\n",
       "      <th>4</th>\n",
       "      <td>5</td>\n",
       "      <td>0</td>\n",
       "      <td>3</td>\n",
       "      <td>male</td>\n",
       "      <td>0</td>\n",
       "      <td>0</td>\n",
       "      <td>S</td>\n",
       "      <td>1</td>\n",
       "      <td>0</td>\n",
       "      <td>1</td>\n",
       "    </tr>\n",
       "  </tbody>\n",
       "</table>\n",
       "</div>"
      ],
      "text/plain": [
       "   PassengerId  Survived  Pclass     Sex  SibSp  Parch Embarked  male  Q  S\n",
       "0            1         0       3    male      1      0        S     1  0  1\n",
       "1            2         1       1  female      1      0        C     0  0  0\n",
       "2            3         1       3  female      0      0        S     0  0  1\n",
       "3            4         1       1  female      1      0        S     0  0  1\n",
       "4            5         0       3    male      0      0        S     1  0  1"
      ]
     },
     "execution_count": 22,
     "metadata": {},
     "output_type": "execute_result"
    }
   ],
   "source": [
    "# Podgląd danych treningowych\n",
    "df_train.head()"
   ]
  },
  {
   "cell_type": "code",
   "execution_count": 23,
   "id": "renewable-simpson",
   "metadata": {
    "execution": {
     "iopub.execute_input": "2021-04-22T16:41:41.067953Z",
     "iopub.status.busy": "2021-04-22T16:41:41.066858Z",
     "iopub.status.idle": "2021-04-22T16:41:41.069713Z",
     "shell.execute_reply": "2021-04-22T16:41:41.070235Z"
    },
    "papermill": {
     "duration": 0.053725,
     "end_time": "2021-04-22T16:41:41.070418",
     "exception": false,
     "start_time": "2021-04-22T16:41:41.016693",
     "status": "completed"
    },
    "tags": []
   },
   "outputs": [],
   "source": [
    "# Konwersja danych płeć\n",
    "sex_mapping = {\"male\": 0, \"female\": 1}\n",
    "df_train['Sex'] = df_train['Sex'].map(sex_mapping)\n",
    "df_test['Sex'] = df_test['Sex'].map(sex_mapping)"
   ]
  },
  {
   "cell_type": "code",
   "execution_count": 24,
   "id": "timely-alarm",
   "metadata": {
    "execution": {
     "iopub.execute_input": "2021-04-22T16:41:41.159050Z",
     "iopub.status.busy": "2021-04-22T16:41:41.158373Z",
     "iopub.status.idle": "2021-04-22T16:41:41.161789Z",
     "shell.execute_reply": "2021-04-22T16:41:41.161266Z"
    },
    "papermill": {
     "duration": 0.049986,
     "end_time": "2021-04-22T16:41:41.161946",
     "exception": false,
     "start_time": "2021-04-22T16:41:41.111960",
     "status": "completed"
    },
    "tags": []
   },
   "outputs": [],
   "source": [
    "# uzupełnienie danych\n",
    "df_train['Embarked']=df_train['Embarked'].fillna('S')"
   ]
  },
  {
   "cell_type": "code",
   "execution_count": 25,
   "id": "compressed-bridge",
   "metadata": {
    "execution": {
     "iopub.execute_input": "2021-04-22T16:41:41.254824Z",
     "iopub.status.busy": "2021-04-22T16:41:41.254154Z",
     "iopub.status.idle": "2021-04-22T16:41:41.256430Z",
     "shell.execute_reply": "2021-04-22T16:41:41.257007Z"
    },
    "papermill": {
     "duration": 0.053331,
     "end_time": "2021-04-22T16:41:41.257190",
     "exception": false,
     "start_time": "2021-04-22T16:41:41.203859",
     "status": "completed"
    },
    "tags": []
   },
   "outputs": [],
   "source": [
    "embarked_mapping = {\"S\": 1, \"C\": 2, \"Q\": 3}\n",
    "df_train['Embarked'] = df_train['Embarked'].map(embarked_mapping)\n",
    "df_test['Embarked'] = df_test['Embarked'].map(embarked_mapping)"
   ]
  },
  {
   "cell_type": "code",
   "execution_count": 26,
   "id": "insured-petersburg",
   "metadata": {
    "execution": {
     "iopub.execute_input": "2021-04-22T16:41:41.350277Z",
     "iopub.status.busy": "2021-04-22T16:41:41.349590Z",
     "iopub.status.idle": "2021-04-22T16:41:41.352631Z",
     "shell.execute_reply": "2021-04-22T16:41:41.352034Z"
    },
    "papermill": {
     "duration": 0.053291,
     "end_time": "2021-04-22T16:41:41.352769",
     "exception": false,
     "start_time": "2021-04-22T16:41:41.299478",
     "status": "completed"
    },
    "tags": []
   },
   "outputs": [],
   "source": [
    "df_train.drop(['Sex'],axis=1,inplace=True)"
   ]
  },
  {
   "cell_type": "code",
   "execution_count": 27,
   "id": "automotive-chancellor",
   "metadata": {
    "execution": {
     "iopub.execute_input": "2021-04-22T16:41:41.440474Z",
     "iopub.status.busy": "2021-04-22T16:41:41.439841Z",
     "iopub.status.idle": "2021-04-22T16:41:41.451559Z",
     "shell.execute_reply": "2021-04-22T16:41:41.452105Z"
    },
    "papermill": {
     "duration": 0.057317,
     "end_time": "2021-04-22T16:41:41.452286",
     "exception": false,
     "start_time": "2021-04-22T16:41:41.394969",
     "status": "completed"
    },
    "tags": []
   },
   "outputs": [
    {
     "data": {
      "text/html": [
       "<div>\n",
       "<style scoped>\n",
       "    .dataframe tbody tr th:only-of-type {\n",
       "        vertical-align: middle;\n",
       "    }\n",
       "\n",
       "    .dataframe tbody tr th {\n",
       "        vertical-align: top;\n",
       "    }\n",
       "\n",
       "    .dataframe thead th {\n",
       "        text-align: right;\n",
       "    }\n",
       "</style>\n",
       "<table border=\"1\" class=\"dataframe\">\n",
       "  <thead>\n",
       "    <tr style=\"text-align: right;\">\n",
       "      <th></th>\n",
       "      <th>PassengerId</th>\n",
       "      <th>Survived</th>\n",
       "      <th>Pclass</th>\n",
       "      <th>SibSp</th>\n",
       "      <th>Parch</th>\n",
       "      <th>Embarked</th>\n",
       "      <th>male</th>\n",
       "      <th>Q</th>\n",
       "      <th>S</th>\n",
       "    </tr>\n",
       "  </thead>\n",
       "  <tbody>\n",
       "    <tr>\n",
       "      <th>0</th>\n",
       "      <td>1</td>\n",
       "      <td>0</td>\n",
       "      <td>3</td>\n",
       "      <td>1</td>\n",
       "      <td>0</td>\n",
       "      <td>1</td>\n",
       "      <td>1</td>\n",
       "      <td>0</td>\n",
       "      <td>1</td>\n",
       "    </tr>\n",
       "    <tr>\n",
       "      <th>1</th>\n",
       "      <td>2</td>\n",
       "      <td>1</td>\n",
       "      <td>1</td>\n",
       "      <td>1</td>\n",
       "      <td>0</td>\n",
       "      <td>2</td>\n",
       "      <td>0</td>\n",
       "      <td>0</td>\n",
       "      <td>0</td>\n",
       "    </tr>\n",
       "    <tr>\n",
       "      <th>2</th>\n",
       "      <td>3</td>\n",
       "      <td>1</td>\n",
       "      <td>3</td>\n",
       "      <td>0</td>\n",
       "      <td>0</td>\n",
       "      <td>1</td>\n",
       "      <td>0</td>\n",
       "      <td>0</td>\n",
       "      <td>1</td>\n",
       "    </tr>\n",
       "    <tr>\n",
       "      <th>3</th>\n",
       "      <td>4</td>\n",
       "      <td>1</td>\n",
       "      <td>1</td>\n",
       "      <td>1</td>\n",
       "      <td>0</td>\n",
       "      <td>1</td>\n",
       "      <td>0</td>\n",
       "      <td>0</td>\n",
       "      <td>1</td>\n",
       "    </tr>\n",
       "    <tr>\n",
       "      <th>4</th>\n",
       "      <td>5</td>\n",
       "      <td>0</td>\n",
       "      <td>3</td>\n",
       "      <td>0</td>\n",
       "      <td>0</td>\n",
       "      <td>1</td>\n",
       "      <td>1</td>\n",
       "      <td>0</td>\n",
       "      <td>1</td>\n",
       "    </tr>\n",
       "  </tbody>\n",
       "</table>\n",
       "</div>"
      ],
      "text/plain": [
       "   PassengerId  Survived  Pclass  SibSp  Parch  Embarked  male  Q  S\n",
       "0            1         0       3      1      0         1     1  0  1\n",
       "1            2         1       1      1      0         2     0  0  0\n",
       "2            3         1       3      0      0         1     0  0  1\n",
       "3            4         1       1      1      0         1     0  0  1\n",
       "4            5         0       3      0      0         1     1  0  1"
      ]
     },
     "execution_count": 27,
     "metadata": {},
     "output_type": "execute_result"
    }
   ],
   "source": [
    "df_train.head()"
   ]
  },
  {
   "cell_type": "code",
   "execution_count": 28,
   "id": "personal-romance",
   "metadata": {
    "execution": {
     "iopub.execute_input": "2021-04-22T16:41:41.541820Z",
     "iopub.status.busy": "2021-04-22T16:41:41.541174Z",
     "iopub.status.idle": "2021-04-22T16:41:41.555683Z",
     "shell.execute_reply": "2021-04-22T16:41:41.556237Z"
    },
    "papermill": {
     "duration": 0.060954,
     "end_time": "2021-04-22T16:41:41.556416",
     "exception": false,
     "start_time": "2021-04-22T16:41:41.495462",
     "status": "completed"
    },
    "tags": []
   },
   "outputs": [
    {
     "data": {
      "text/html": [
       "<div>\n",
       "<style scoped>\n",
       "    .dataframe tbody tr th:only-of-type {\n",
       "        vertical-align: middle;\n",
       "    }\n",
       "\n",
       "    .dataframe tbody tr th {\n",
       "        vertical-align: top;\n",
       "    }\n",
       "\n",
       "    .dataframe thead th {\n",
       "        text-align: right;\n",
       "    }\n",
       "</style>\n",
       "<table border=\"1\" class=\"dataframe\">\n",
       "  <thead>\n",
       "    <tr style=\"text-align: right;\">\n",
       "      <th></th>\n",
       "      <th>Pclass</th>\n",
       "      <th>Survived</th>\n",
       "    </tr>\n",
       "  </thead>\n",
       "  <tbody>\n",
       "    <tr>\n",
       "      <th>0</th>\n",
       "      <td>1</td>\n",
       "      <td>0.629630</td>\n",
       "    </tr>\n",
       "    <tr>\n",
       "      <th>1</th>\n",
       "      <td>2</td>\n",
       "      <td>0.472826</td>\n",
       "    </tr>\n",
       "    <tr>\n",
       "      <th>2</th>\n",
       "      <td>3</td>\n",
       "      <td>0.242363</td>\n",
       "    </tr>\n",
       "  </tbody>\n",
       "</table>\n",
       "</div>"
      ],
      "text/plain": [
       "   Pclass  Survived\n",
       "0       1  0.629630\n",
       "1       2  0.472826\n",
       "2       3  0.242363"
      ]
     },
     "execution_count": 28,
     "metadata": {},
     "output_type": "execute_result"
    }
   ],
   "source": [
    "# Współczynnik ocalałych względem klasy\n",
    "df_train[['Pclass', 'Survived']].groupby(['Pclass'], as_index=False).mean().sort_values(by='Survived', ascending=False)\n"
   ]
  },
  {
   "cell_type": "code",
   "execution_count": 29,
   "id": "perfect-peripheral",
   "metadata": {
    "execution": {
     "iopub.execute_input": "2021-04-22T16:41:41.646865Z",
     "iopub.status.busy": "2021-04-22T16:41:41.646233Z",
     "iopub.status.idle": "2021-04-22T16:41:41.653212Z",
     "shell.execute_reply": "2021-04-22T16:41:41.652619Z"
    },
    "papermill": {
     "duration": 0.053798,
     "end_time": "2021-04-22T16:41:41.653355",
     "exception": false,
     "start_time": "2021-04-22T16:41:41.599557",
     "status": "completed"
    },
    "tags": []
   },
   "outputs": [],
   "source": [
    "# Usunięcie kolumn nadmiarowych\n",
    "X=df_train.drop(['PassengerId', 'Survived'],axis=1)\n",
    "y=df_train['Survived'] \n"
   ]
  },
  {
   "cell_type": "code",
   "execution_count": 30,
   "id": "living-treasurer",
   "metadata": {
    "execution": {
     "iopub.execute_input": "2021-04-22T16:41:41.744460Z",
     "iopub.status.busy": "2021-04-22T16:41:41.743792Z",
     "iopub.status.idle": "2021-04-22T16:41:42.107461Z",
     "shell.execute_reply": "2021-04-22T16:41:42.108026Z"
    },
    "papermill": {
     "duration": 0.410813,
     "end_time": "2021-04-22T16:41:42.108205",
     "exception": false,
     "start_time": "2021-04-22T16:41:41.697392",
     "status": "completed"
    },
    "tags": []
   },
   "outputs": [],
   "source": [
    "from sklearn.linear_model import LogisticRegression \n",
    "from sklearn.model_selection import train_test_split\n",
    "from sklearn.metrics import accuracy_score\n",
    "from sklearn.metrics import classification_report\n",
    "from sklearn.metrics import confusion_matrix"
   ]
  },
  {
   "cell_type": "code",
   "execution_count": 31,
   "id": "hourly-institution",
   "metadata": {
    "execution": {
     "iopub.execute_input": "2021-04-22T16:41:42.199855Z",
     "iopub.status.busy": "2021-04-22T16:41:42.199174Z",
     "iopub.status.idle": "2021-04-22T16:41:42.205817Z",
     "shell.execute_reply": "2021-04-22T16:41:42.206321Z"
    },
    "papermill": {
     "duration": 0.054061,
     "end_time": "2021-04-22T16:41:42.206501",
     "exception": false,
     "start_time": "2021-04-22T16:41:42.152440",
     "status": "completed"
    },
    "tags": []
   },
   "outputs": [],
   "source": [
    "# Podział danych\n",
    "X_train, X_test, y_train, y_test = train_test_split(X, y, test_size=0.47, random_state=101)"
   ]
  },
  {
   "cell_type": "code",
   "execution_count": 32,
   "id": "solar-arbor",
   "metadata": {
    "execution": {
     "iopub.execute_input": "2021-04-22T16:41:42.310008Z",
     "iopub.status.busy": "2021-04-22T16:41:42.309275Z",
     "iopub.status.idle": "2021-04-22T16:41:42.315936Z",
     "shell.execute_reply": "2021-04-22T16:41:42.316488Z"
    },
    "papermill": {
     "duration": 0.066644,
     "end_time": "2021-04-22T16:41:42.316673",
     "exception": false,
     "start_time": "2021-04-22T16:41:42.250029",
     "status": "completed"
    },
    "tags": []
   },
   "outputs": [
    {
     "name": "stdout",
     "output_type": "stream",
     "text": [
      "<class 'pandas.core.frame.DataFrame'>\n",
      "RangeIndex: 418 entries, 0 to 417\n",
      "Data columns (total 9 columns):\n",
      " #   Column       Non-Null Count  Dtype\n",
      "---  ------       --------------  -----\n",
      " 0   PassengerId  418 non-null    int64\n",
      " 1   Pclass       418 non-null    int64\n",
      " 2   Sex          418 non-null    int64\n",
      " 3   SibSp        418 non-null    int64\n",
      " 4   Parch        418 non-null    int64\n",
      " 5   Embarked     418 non-null    int64\n",
      " 6   male         418 non-null    uint8\n",
      " 7   Q            418 non-null    uint8\n",
      " 8   S            418 non-null    uint8\n",
      "dtypes: int64(6), uint8(3)\n",
      "memory usage: 20.9 KB\n"
     ]
    }
   ],
   "source": [
    "df_test.info()"
   ]
  },
  {
   "cell_type": "code",
   "execution_count": 33,
   "id": "relevant-payment",
   "metadata": {
    "execution": {
     "iopub.execute_input": "2021-04-22T16:41:42.415093Z",
     "iopub.status.busy": "2021-04-22T16:41:42.414078Z",
     "iopub.status.idle": "2021-04-22T16:41:42.435907Z",
     "shell.execute_reply": "2021-04-22T16:41:42.435257Z"
    },
    "papermill": {
     "duration": 0.074629,
     "end_time": "2021-04-22T16:41:42.436055",
     "exception": false,
     "start_time": "2021-04-22T16:41:42.361426",
     "status": "completed"
    },
    "tags": []
   },
   "outputs": [
    {
     "data": {
      "text/plain": [
       "LogisticRegression()"
      ]
     },
     "execution_count": 33,
     "metadata": {},
     "output_type": "execute_result"
    }
   ],
   "source": [
    "# Tworzenie instancji oraz dopasowanie modelu do danych treningowych\n",
    "lrmodel = LogisticRegression()\n",
    "lrmodel.fit(X_train,y_train) "
   ]
  },
  {
   "cell_type": "code",
   "execution_count": 34,
   "id": "rational-diary",
   "metadata": {
    "execution": {
     "iopub.execute_input": "2021-04-22T16:41:42.534140Z",
     "iopub.status.busy": "2021-04-22T16:41:42.533432Z",
     "iopub.status.idle": "2021-04-22T16:41:42.536685Z",
     "shell.execute_reply": "2021-04-22T16:41:42.536159Z"
    },
    "papermill": {
     "duration": 0.05605,
     "end_time": "2021-04-22T16:41:42.536821",
     "exception": false,
     "start_time": "2021-04-22T16:41:42.480771",
     "status": "completed"
    },
    "tags": []
   },
   "outputs": [],
   "source": [
    "# Predykcja\n",
    "predict=lrmodel.predict(X_test)"
   ]
  },
  {
   "cell_type": "code",
   "execution_count": 35,
   "id": "reserved-reverse",
   "metadata": {
    "execution": {
     "iopub.execute_input": "2021-04-22T16:41:42.633451Z",
     "iopub.status.busy": "2021-04-22T16:41:42.632652Z",
     "iopub.status.idle": "2021-04-22T16:41:42.637238Z",
     "shell.execute_reply": "2021-04-22T16:41:42.636692Z"
    },
    "papermill": {
     "duration": 0.055579,
     "end_time": "2021-04-22T16:41:42.637376",
     "exception": false,
     "start_time": "2021-04-22T16:41:42.581797",
     "status": "completed"
    },
    "tags": []
   },
   "outputs": [
    {
     "data": {
      "text/plain": [
       "80.19"
      ]
     },
     "execution_count": 35,
     "metadata": {},
     "output_type": "execute_result"
    }
   ],
   "source": [
    "# Wynik\n",
    "acc_logreg = round(accuracy_score(predict, y_test)*100, 2)\n",
    "acc_logreg"
   ]
  },
  {
   "cell_type": "code",
   "execution_count": 36,
   "id": "empty-crystal",
   "metadata": {
    "execution": {
     "iopub.execute_input": "2021-04-22T16:41:42.737318Z",
     "iopub.status.busy": "2021-04-22T16:41:42.736638Z",
     "iopub.status.idle": "2021-04-22T16:41:42.744228Z",
     "shell.execute_reply": "2021-04-22T16:41:42.745195Z"
    },
    "papermill": {
     "duration": 0.061231,
     "end_time": "2021-04-22T16:41:42.745524",
     "exception": false,
     "start_time": "2021-04-22T16:41:42.684293",
     "status": "completed"
    },
    "tags": []
   },
   "outputs": [
    {
     "name": "stdout",
     "output_type": "stream",
     "text": [
      "              precision    recall  f1-score   support\n",
      "\n",
      "           0       0.81      0.88      0.84       254\n",
      "           1       0.78      0.68      0.73       165\n",
      "\n",
      "    accuracy                           0.80       419\n",
      "   macro avg       0.80      0.78      0.79       419\n",
      "weighted avg       0.80      0.80      0.80       419\n",
      "\n"
     ]
    }
   ],
   "source": [
    "print (classification_report(y_test,predict))"
   ]
  },
  {
   "cell_type": "code",
   "execution_count": 37,
   "id": "modified-technician",
   "metadata": {
    "execution": {
     "iopub.execute_input": "2021-04-22T16:41:42.842312Z",
     "iopub.status.busy": "2021-04-22T16:41:42.841671Z",
     "iopub.status.idle": "2021-04-22T16:41:42.851959Z",
     "shell.execute_reply": "2021-04-22T16:41:42.851436Z"
    },
    "papermill": {
     "duration": 0.059392,
     "end_time": "2021-04-22T16:41:42.852107",
     "exception": false,
     "start_time": "2021-04-22T16:41:42.792715",
     "status": "completed"
    },
    "tags": []
   },
   "outputs": [
    {
     "data": {
      "text/plain": [
       "array([[223,  31],\n",
       "       [ 52, 113]])"
      ]
     },
     "execution_count": 37,
     "metadata": {},
     "output_type": "execute_result"
    }
   ],
   "source": [
    "confusion_matrix(y_test,predict)"
   ]
  },
  {
   "cell_type": "code",
   "execution_count": 38,
   "id": "rocky-oregon",
   "metadata": {
    "execution": {
     "iopub.execute_input": "2021-04-22T16:41:42.948758Z",
     "iopub.status.busy": "2021-04-22T16:41:42.948126Z",
     "iopub.status.idle": "2021-04-22T16:41:42.962261Z",
     "shell.execute_reply": "2021-04-22T16:41:42.963033Z"
    },
    "papermill": {
     "duration": 0.064523,
     "end_time": "2021-04-22T16:41:42.963267",
     "exception": false,
     "start_time": "2021-04-22T16:41:42.898744",
     "status": "completed"
    },
    "tags": []
   },
   "outputs": [
    {
     "name": "stdout",
     "output_type": "stream",
     "text": [
      "<class 'pandas.core.frame.DataFrame'>\n",
      "RangeIndex: 418 entries, 0 to 417\n",
      "Data columns (total 9 columns):\n",
      " #   Column       Non-Null Count  Dtype\n",
      "---  ------       --------------  -----\n",
      " 0   PassengerId  418 non-null    int64\n",
      " 1   Pclass       418 non-null    int64\n",
      " 2   Sex          418 non-null    int64\n",
      " 3   SibSp        418 non-null    int64\n",
      " 4   Parch        418 non-null    int64\n",
      " 5   Embarked     418 non-null    int64\n",
      " 6   male         418 non-null    uint8\n",
      " 7   Q            418 non-null    uint8\n",
      " 8   S            418 non-null    uint8\n",
      "dtypes: int64(6), uint8(3)\n",
      "memory usage: 20.9 KB\n"
     ]
    }
   ],
   "source": [
    "df_test.info()"
   ]
  },
  {
   "cell_type": "code",
   "execution_count": 39,
   "id": "fancy-combination",
   "metadata": {
    "execution": {
     "iopub.execute_input": "2021-04-22T16:41:43.066923Z",
     "iopub.status.busy": "2021-04-22T16:41:43.066259Z",
     "iopub.status.idle": "2021-04-22T16:41:43.080742Z",
     "shell.execute_reply": "2021-04-22T16:41:43.080182Z"
    },
    "papermill": {
     "duration": 0.068224,
     "end_time": "2021-04-22T16:41:43.080910",
     "exception": false,
     "start_time": "2021-04-22T16:41:43.012686",
     "status": "completed"
    },
    "tags": []
   },
   "outputs": [
    {
     "name": "stdout",
     "output_type": "stream",
     "text": [
      "your submission was succesfull\n"
     ]
    }
   ],
   "source": [
    "logreg = df_test['PassengerId']\n",
    "predict = lrmodel.predict(df_test.drop(['PassengerId', 'S'], axis=1))\n",
    "\n",
    "\n",
    "\n",
    "\n",
    "#Export danych\n",
    "output = pd.DataFrame({ 'PassengerId' : logreg, 'Survived': predict })\n",
    "output.to_csv('submission.csv', index=False)\n",
    "print(\"your submission was succesfull\")"
   ]
  }
 ],
 "metadata": {
  "kernelspec": {
   "display_name": "Python 3",
   "language": "python",
   "name": "python3"
  },
  "language_info": {
   "codemirror_mode": {
    "name": "ipython",
    "version": 3
   },
   "file_extension": ".py",
   "mimetype": "text/x-python",
   "name": "python",
   "nbconvert_exporter": "python",
   "pygments_lexer": "ipython3",
   "version": "3.7.9"
  },
  "papermill": {
   "default_parameters": {},
   "duration": 14.12827,
   "end_time": "2021-04-22T16:41:43.839992",
   "environment_variables": {},
   "exception": null,
   "input_path": "__notebook__.ipynb",
   "output_path": "__notebook__.ipynb",
   "parameters": {},
   "start_time": "2021-04-22T16:41:29.711722",
   "version": "2.3.2"
  }
 },
 "nbformat": 4,
 "nbformat_minor": 5
}
