{
 "cells": [
  {
   "cell_type": "markdown",
   "id": "recreational-candle",
   "metadata": {
    "papermill": {
     "duration": 0.010553,
     "end_time": "2021-05-21T07:05:03.880675",
     "exception": false,
     "start_time": "2021-05-21T07:05:03.870122",
     "status": "completed"
    },
    "tags": []
   },
   "source": [
    "### Wczytanie bibliotek"
   ]
  },
  {
   "cell_type": "code",
   "execution_count": 1,
   "id": "broadband-pointer",
   "metadata": {
    "_cell_guid": "b1076dfc-b9ad-4769-8c92-a6c4dae69d19",
    "_uuid": "8f2839f25d086af736a60e9eeb907d3b93b6e0e5",
    "execution": {
     "iopub.execute_input": "2021-05-21T07:05:03.905699Z",
     "iopub.status.busy": "2021-05-21T07:05:03.904987Z",
     "iopub.status.idle": "2021-05-21T07:05:05.302136Z",
     "shell.execute_reply": "2021-05-21T07:05:05.301319Z",
     "shell.execute_reply.started": "2021-05-20T19:46:03.077280Z"
    },
    "papermill": {
     "duration": 1.412462,
     "end_time": "2021-05-21T07:05:05.302348",
     "exception": false,
     "start_time": "2021-05-21T07:05:03.889886",
     "status": "completed"
    },
    "tags": []
   },
   "outputs": [],
   "source": [
    "import pandas as pd\n",
    "from sklearn.model_selection import train_test_split\n",
    "from sklearn.metrics import mean_squared_error, mean_absolute_error\n",
    "from sklearn.datasets import load_boston\n",
    "from sklearn.preprocessing import StandardScaler\n",
    "from sklearn.pipeline import Pipeline\n",
    "from sklearn.svm import SVR\n",
    "\n",
    "from sklearn.metrics import make_scorer\n",
    "from sklearn.tree import DecisionTreeRegressor\n",
    "from sklearn.model_selection import GridSearchCV\n",
    "import numpy as np\n",
    "from sklearn.model_selection import RandomizedSearchCV"
   ]
  },
  {
   "cell_type": "markdown",
   "id": "sustained-coaching",
   "metadata": {
    "papermill": {
     "duration": 0.008812,
     "end_time": "2021-05-21T07:05:05.320472",
     "exception": false,
     "start_time": "2021-05-21T07:05:05.311660",
     "status": "completed"
    },
    "tags": []
   },
   "source": [
    "### Podział danych"
   ]
  },
  {
   "cell_type": "code",
   "execution_count": 2,
   "id": "designing-circulation",
   "metadata": {
    "execution": {
     "iopub.execute_input": "2021-05-21T07:05:05.347793Z",
     "iopub.status.busy": "2021-05-21T07:05:05.346924Z",
     "iopub.status.idle": "2021-05-21T07:05:05.380375Z",
     "shell.execute_reply": "2021-05-21T07:05:05.379656Z",
     "shell.execute_reply.started": "2021-05-20T19:46:03.086830Z"
    },
    "papermill": {
     "duration": 0.050961,
     "end_time": "2021-05-21T07:05:05.380528",
     "exception": false,
     "start_time": "2021-05-21T07:05:05.329567",
     "status": "completed"
    },
    "tags": []
   },
   "outputs": [],
   "source": [
    "data = load_boston()\n",
    "names = data.feature_names\n",
    "predictors = data.data\n",
    "targets = data.target\n",
    "df = pd.concat([pd.DataFrame(predictors, columns=names), pd.DataFrame(targets, columns=['MEDV'])], axis=1)\n",
    "cols_corr_manual = ['NOX', 'RAD']\n",
    "df = df.drop(columns=cols_corr_manual)\n",
    "X = df.iloc[:, 0:-1]\n",
    "y = df.iloc[:, -1]\n",
    "X_train, X_test, y_train, y_test = train_test_split(X, y, test_size=0.2, random_state=7)\n",
    "\n"
   ]
  },
  {
   "cell_type": "markdown",
   "id": "located-railway",
   "metadata": {
    "papermill": {
     "duration": 0.008918,
     "end_time": "2021-05-21T07:05:05.398822",
     "exception": false,
     "start_time": "2021-05-21T07:05:05.389904",
     "status": "completed"
    },
    "tags": []
   },
   "source": [
    "### Regresja wektora wsparcia dla jądra liniowego o wartości parametru C=1"
   ]
  },
  {
   "cell_type": "code",
   "execution_count": 3,
   "id": "historical-minimum",
   "metadata": {
    "execution": {
     "iopub.execute_input": "2021-05-21T07:05:05.429491Z",
     "iopub.status.busy": "2021-05-21T07:05:05.428458Z",
     "iopub.status.idle": "2021-05-21T07:05:05.456391Z",
     "shell.execute_reply": "2021-05-21T07:05:05.455504Z",
     "shell.execute_reply.started": "2021-05-20T19:46:03.130318Z"
    },
    "papermill": {
     "duration": 0.048783,
     "end_time": "2021-05-21T07:05:05.456612",
     "exception": false,
     "start_time": "2021-05-21T07:05:05.407829",
     "status": "completed"
    },
    "tags": []
   },
   "outputs": [
    {
     "name": "stdout",
     "output_type": "stream",
     "text": [
      "MSE: 45.08912588560663\n",
      "MAE: 3.847650706542578\n",
      "R2: 0.44200949488171315\n"
     ]
    }
   ],
   "source": [
    "svm_reg = Pipeline([('scaler', StandardScaler()), ('svr', SVR(kernel='linear',C=1))])\n",
    "svm_reg.fit(X_train, y_train)\n",
    "pred = svm_reg.predict(X_test)\n",
    "# Mean squared error\n",
    "print('MSE:', mean_squared_error(y_test, pred))\n",
    "# Mean absolute error\n",
    "print('MAE:', mean_absolute_error(y_test, pred))\n",
    "# Coefficient of determination\n",
    "print('R2:', svm_reg.score(X_test,y_test))"
   ]
  },
  {
   "cell_type": "markdown",
   "id": "interim-table",
   "metadata": {
    "papermill": {
     "duration": 0.010384,
     "end_time": "2021-05-21T07:05:05.477168",
     "exception": false,
     "start_time": "2021-05-21T07:05:05.466784",
     "status": "completed"
    },
    "tags": []
   },
   "source": [
    "### Regresja wektora wsparcia dla jądra liniowego o wartości parametru C=10"
   ]
  },
  {
   "cell_type": "code",
   "execution_count": 4,
   "id": "dated-acting",
   "metadata": {
    "execution": {
     "iopub.execute_input": "2021-05-21T07:05:05.506586Z",
     "iopub.status.busy": "2021-05-21T07:05:05.504360Z",
     "iopub.status.idle": "2021-05-21T07:05:05.577556Z",
     "shell.execute_reply": "2021-05-21T07:05:05.578289Z",
     "shell.execute_reply.started": "2021-05-20T19:46:03.167815Z"
    },
    "papermill": {
     "duration": 0.091905,
     "end_time": "2021-05-21T07:05:05.578564",
     "exception": false,
     "start_time": "2021-05-21T07:05:05.486659",
     "status": "completed"
    },
    "tags": []
   },
   "outputs": [
    {
     "name": "stdout",
     "output_type": "stream",
     "text": [
      "MSE: 45.871385717018185\n",
      "MAE: 3.870153215346661\n",
      "R2: 0.43232881134904755\n"
     ]
    }
   ],
   "source": [
    "svm_reg = Pipeline([('scaler', StandardScaler()), ('svr', SVR(kernel='linear',C=10))])\n",
    "svm_reg.fit(X_train, y_train)\n",
    "pred = svm_reg.predict(X_test)\n",
    "# Mean squared error\n",
    "print('MSE:', mean_squared_error(y_test, pred))\n",
    "# Mean absolute error\n",
    "print('MAE:', mean_absolute_error(y_test, pred))\n",
    "# Coefficient of determination\n",
    "print('R2:', svm_reg.score(X_test,y_test))"
   ]
  },
  {
   "cell_type": "markdown",
   "id": "about-hybrid",
   "metadata": {
    "papermill": {
     "duration": 0.009356,
     "end_time": "2021-05-21T07:05:05.598143",
     "exception": false,
     "start_time": "2021-05-21T07:05:05.588787",
     "status": "completed"
    },
    "tags": []
   },
   "source": [
    "### Wyszukanie najlepszych parametrów przez GridSearchCV"
   ]
  },
  {
   "cell_type": "code",
   "execution_count": 5,
   "id": "ranking-piano",
   "metadata": {
    "execution": {
     "iopub.execute_input": "2021-05-21T07:05:05.629937Z",
     "iopub.status.busy": "2021-05-21T07:05:05.628286Z",
     "iopub.status.idle": "2021-05-21T07:16:56.408756Z",
     "shell.execute_reply": "2021-05-21T07:16:56.409294Z",
     "shell.execute_reply.started": "2021-05-20T19:46:03.243928Z"
    },
    "papermill": {
     "duration": 710.801807,
     "end_time": "2021-05-21T07:16:56.409500",
     "exception": false,
     "start_time": "2021-05-21T07:05:05.607693",
     "status": "completed"
    },
    "tags": []
   },
   "outputs": [
    {
     "name": "stdout",
     "output_type": "stream",
     "text": [
      "SVR(C=1, gamma=0.01, kernel='linear')\n"
     ]
    }
   ],
   "source": [
    "C_range = [1, 2, 4, 10]\n",
    "gamma_range = np.logspace(-2, 2, 5)\n",
    "parameters = {'kernel':('linear', 'rbf'),'gamma':gamma_range,'C':C_range}\n",
    "svr = SVR()\n",
    "grid = GridSearchCV(svr, parameters)\n",
    "grid.fit(X_train, y_train)\n",
    "classifier = grid.best_estimator_\n",
    "print(classifier)\n"
   ]
  },
  {
   "cell_type": "markdown",
   "id": "green-wireless",
   "metadata": {
    "papermill": {
     "duration": 0.009759,
     "end_time": "2021-05-21T07:16:56.429317",
     "exception": false,
     "start_time": "2021-05-21T07:16:56.419558",
     "status": "completed"
    },
    "tags": []
   },
   "source": [
    "### Wyszukiwanie najlepszych parametrów pomiędzy GridSearchCV oraz RandomizedSearchCV"
   ]
  },
  {
   "cell_type": "code",
   "execution_count": 6,
   "id": "acceptable-recommendation",
   "metadata": {
    "execution": {
     "iopub.execute_input": "2021-05-21T07:16:56.465413Z",
     "iopub.status.busy": "2021-05-21T07:16:56.464639Z",
     "iopub.status.idle": "2021-05-21T07:27:31.627645Z",
     "shell.execute_reply": "2021-05-21T07:27:31.628407Z",
     "shell.execute_reply.started": "2021-05-20T19:57:49.834879Z"
    },
    "papermill": {
     "duration": 635.189428,
     "end_time": "2021-05-21T07:27:31.628641",
     "exception": false,
     "start_time": "2021-05-21T07:16:56.439213",
     "status": "completed"
    },
    "tags": []
   },
   "outputs": [
    {
     "name": "stdout",
     "output_type": "stream",
     "text": [
      "{'C': 1, 'cache_size': 200, 'coef0': 0.0, 'degree': 3, 'epsilon': 0.1, 'gamma': 1.0, 'kernel': 'linear', 'max_iter': -1, 'shrinking': True, 'tol': 0.001, 'verbose': False}\n",
      "MSE: 45.871385717018185\n",
      "MAE: 3.870153215346661\n",
      "R2: 0.4593587838236325\n"
     ]
    }
   ],
   "source": [
    "def fit_model (x,v):\n",
    "    X_train, X_test, y_train, y_test = train_test_split(x, v, test_size=0.2, random_state=7)\n",
    "    parameters = {'kernel':('linear', 'rbf'),'gamma':(np.logspace(-2, 2, 5)),'C':[1, 10]}\n",
    "    svr = SVR()\n",
    "    grid = GridSearchCV(svr, parameters)\n",
    "    grid.fit(X_train, y_train)\n",
    "    rand = RandomizedSearchCV(svr, parameters)\n",
    "    rand.fit(X_train, y_train)\n",
    "    if grid.score(X_test,y_test) > rand.score(X_test,y_test):\n",
    "        return grid.best_estimator_\n",
    "    else:\n",
    "        return rand.best_estimator_\n",
    "    \n",
    "final = fit_model(X,y)\n",
    "print(final.get_params())\n",
    "\n",
    "\n",
    "# Mean squared error\n",
    "print('MSE:', mean_squared_error(y_test, pred))\n",
    "# Mean absolute error\n",
    "print('MAE:', mean_absolute_error(y_test, pred))\n",
    "# Coefficient of determination\n",
    "print('R2:', final.score(X_test,y_test))"
   ]
  }
 ],
 "metadata": {
  "kernelspec": {
   "display_name": "Python 3",
   "language": "python",
   "name": "python3"
  },
  "language_info": {
   "codemirror_mode": {
    "name": "ipython",
    "version": 3
   },
   "file_extension": ".py",
   "mimetype": "text/x-python",
   "name": "python",
   "nbconvert_exporter": "python",
   "pygments_lexer": "ipython3",
   "version": "3.7.9"
  },
  "papermill": {
   "default_parameters": {},
   "duration": 1354.90349,
   "end_time": "2021-05-21T07:27:32.350067",
   "environment_variables": {},
   "exception": null,
   "input_path": "__notebook__.ipynb",
   "output_path": "__notebook__.ipynb",
   "parameters": {},
   "start_time": "2021-05-21T07:04:57.446577",
   "version": "2.3.2"
  }
 },
 "nbformat": 4,
 "nbformat_minor": 5
}
